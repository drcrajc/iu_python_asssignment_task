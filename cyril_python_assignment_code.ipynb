{
  "nbformat": 4,
  "nbformat_minor": 0,
  "metadata": {
    "colab": {
      "provenance": [],
      "mount_file_id": "1FCvNP5v6yipw9KsTkE0P91_aZ9u4b5Bh",
      "authorship_tag": "ABX9TyO7d5GxqLPI+ZHQrtQwtuuJ",
      "include_colab_link": true
    },
    "kernelspec": {
      "name": "python3",
      "display_name": "Python 3"
    },
    "language_info": {
      "name": "python"
    }
  },
  "cells": [
    {
      "cell_type": "markdown",
      "metadata": {
        "id": "view-in-github",
        "colab_type": "text"
      },
      "source": [
        "<a href=\"https://colab.research.google.com/github/drcrajc/iu_python_asssignment_task/blob/main/cyril_python_assignment_code.ipynb\" target=\"_parent\"><img src=\"https://colab.research.google.com/assets/colab-badge.svg\" alt=\"Open In Colab\"/></a>"
      ]
    },
    {
      "cell_type": "code",
      "source": [
        "from google.colab import drive\n",
        "drive.mount('/content/drive')"
      ],
      "metadata": {
        "colab": {
          "base_uri": "https://localhost:8080/"
        },
        "id": "yOLuEr7kbOkI",
        "outputId": "3b05abf1-5e78-4f94-9eb8-e47706cd8723"
      },
      "execution_count": 1,
      "outputs": [
        {
          "output_type": "stream",
          "name": "stdout",
          "text": [
            "Drive already mounted at /content/drive; to attempt to forcibly remount, call drive.mount(\"/content/drive\", force_remount=True).\n"
          ]
        }
      ]
    },
    {
      "cell_type": "code",
      "execution_count": 21,
      "metadata": {
        "colab": {
          "base_uri": "https://localhost:8080/"
        },
        "id": "Jzbn25s0bIra",
        "outputId": "580bbba5-7597-4776-e897-0105e0406f81"
      },
      "outputs": [
        {
          "output_type": "stream",
          "name": "stdout",
          "text": [
            "Datasets loaded successfully\n"
          ]
        }
      ],
      "source": [
        "import pandas as pd\n",
        "import numpy as np\n",
        "from sklearn.linear_model import LinearRegression\n",
        "from sklearn.ensemble import RandomForestRegressor, GradientBoostingRegressor\n",
        "from sklearn.svm import SVR\n",
        "from sklearn.neighbors import KNeighborsRegressor\n",
        "from sklearn.metrics import mean_squared_error\n",
        "from keras.models import Sequential\n",
        "from keras.layers import Dense\n",
        "import matplotlib.pyplot as plt\n",
        "\n",
        "# Load datasets\n",
        "ideal_df = pd.read_csv(\"/content/drive/MyDrive/iubh_python_assign/dataset/ideal.csv\")\n",
        "test_df = pd.read_csv(\"/content/drive/MyDrive/iubh_python_assign/dataset/test.csv\")\n",
        "train_df = pd.read_csv(\"/content/drive/MyDrive/iubh_python_assign/dataset/train.csv\")\n",
        "print(\"Datasets loaded successfully\")"
      ]
    },
    {
      "cell_type": "code",
      "source": [
        "# Prepare training and test data\n",
        "X_train = train_df[\"x\"].values.reshape(-1, 1)\n",
        "y_train = train_df.drop(columns=[\"x\"]).values.ravel()\n",
        "X_test = test_df[\"x\"].values.reshape(-1, 1)\n",
        "print(\"Training and test data prepared\")"
      ],
      "metadata": {
        "colab": {
          "base_uri": "https://localhost:8080/"
        },
        "id": "DpNXXeOXhsfy",
        "outputId": "5db1b9f4-23c1-467e-8531-ded9c8e0af5f"
      },
      "execution_count": 22,
      "outputs": [
        {
          "output_type": "stream",
          "name": "stdout",
          "text": [
            "Training and test data prepared\n"
          ]
        }
      ]
    },
    {
      "cell_type": "code",
      "source": [
        "# Define a function to fit models and calculate SSD\n",
        "def fit_and_evaluate_model(model, model_name):\n",
        "    models = []\n",
        "    ssds = []\n",
        "\n",
        "    for i in range(1, 51):\n",
        "        y_ideal = ideal_df[f\"y{i}\"].values.ravel()\n",
        "        model.fit(X_train, y_ideal)\n",
        "        y_pred = model.predict(X_train)\n",
        "        ssd = np.sum((y_pred - y_ideal)**2)  # Use y_ideal instead of y_train for SSD calculation\n",
        "        models.append(model)\n",
        "        ssds.append(ssd)\n",
        "        print(f\"{model_name} Model {i} fitted with SSD: {ssd}\")\n",
        "\n",
        "    return models, ssds"
      ],
      "metadata": {
        "id": "abb9GGGzhxU8"
      },
      "execution_count": 23,
      "outputs": []
    },
    {
      "cell_type": "code",
      "source": [
        "# Define a function to fit neural networks and calculate SSD\n",
        "def fit_and_evaluate_nn():\n",
        "    models = []\n",
        "    ssds = []\n",
        "\n",
        "    for i in range(1, 51):\n",
        "        y_ideal = ideal_df[f\"y{i}\"].values.ravel()\n",
        "        model = Sequential()\n",
        "        model.add(Dense(64, input_dim=1, activation='relu'))\n",
        "        model.add(Dense(32, activation='relu'))\n",
        "        model.add(Dense(1))\n",
        "        model.compile(optimizer='adam', loss='mean_squared_error')\n",
        "        model.fit(X_train, y_ideal, epochs=100, verbose=0)\n",
        "        y_pred = model.predict(X_train).flatten()\n",
        "        ssd = np.sum((y_pred - y_ideal)**2)  # Use y_ideal instead of y_train for SSD calculation\n",
        "        models.append(model)\n",
        "        ssds.append(ssd)\n",
        "        print(f\"Neural Network Model {i} fitted with SSD: {ssd}\")\n",
        "\n",
        "    return models, ssds\n"
      ],
      "metadata": {
        "id": "C0gsxWO-hxd6"
      },
      "execution_count": 24,
      "outputs": []
    },
    {
      "cell_type": "code",
      "source": [
        "# Fit and evaluate models\n",
        "#Linear Regression\n",
        "linear_models, linear_ssds = fit_and_evaluate_model(LinearRegression(), \"Linear Regression\")"
      ],
      "metadata": {
        "colab": {
          "base_uri": "https://localhost:8080/"
        },
        "id": "p-QoaJh_hxmc",
        "outputId": "79bd4e9a-fb85-46f4-f3a7-60999498bc54"
      },
      "execution_count": 25,
      "outputs": [
        {
          "output_type": "stream",
          "name": "stdout",
          "text": [
            "Linear Regression Model 1 fitted with SSD: 195.89127153983014\n",
            "Linear Regression Model 2 fitted with SSD: 202.88007442165565\n",
            "Linear Regression Model 3 fitted with SSD: 195.89127977117153\n",
            "Linear Regression Model 4 fitted with SSD: 202.88007658771272\n",
            "Linear Regression Model 5 fitted with SSD: 195.89127977117153\n",
            "Linear Regression Model 6 fitted with SSD: 195.89127153983014\n",
            "Linear Regression Model 7 fitted with SSD: 207.93388321864552\n",
            "Linear Regression Model 8 fitted with SSD: 205.57669193576\n",
            "Linear Regression Model 9 fitted with SSD: 811.520294250026\n",
            "Linear Regression Model 10 fitted with SSD: 25195.488998086155\n",
            "Linear Regression Model 11 fitted with SSD: 1.770475427438109e-26\n",
            "Linear Regression Model 12 fitted with SSD: 9.91680468256775e-25\n",
            "Linear Regression Model 13 fitted with SSD: 8.068384569632555e-25\n",
            "Linear Regression Model 14 fitted with SSD: 1.770475427438109e-26\n",
            "Linear Regression Model 15 fitted with SSD: 5.729700123165455e-26\n",
            "Linear Regression Model 16 fitted with SSD: 5688711.112\n",
            "Linear Regression Model 17 fitted with SSD: 5688711.112\n",
            "Linear Regression Model 18 fitted with SSD: 22754844.448\n",
            "Linear Regression Model 19 fitted with SSD: 5688711.112\n",
            "Linear Regression Model 20 fitted with SSD: 5688711.112\n",
            "Linear Regression Model 21 fitted with SSD: 585219654.262872\n",
            "Linear Regression Model 22 fitted with SSD: 2057112856.2886992\n",
            "Linear Regression Model 23 fitted with SSD: 585219654.262872\n",
            "Linear Regression Model 24 fitted with SSD: 2340878617.051488\n",
            "Linear Regression Model 25 fitted with SSD: 5266976936.839447\n",
            "Linear Regression Model 26 fitted with SSD: 779773574.2932721\n",
            "Linear Regression Model 27 fitted with SSD: 800252934.2964718\n",
            "Linear Regression Model 28 fitted with SSD: 585219654.262872\n",
            "Linear Regression Model 29 fitted with SSD: 589201752.0412719\n",
            "Linear Regression Model 30 fitted with SSD: 611387725.3780719\n",
            "Linear Regression Model 31 fitted with SSD: 13333.249995312464\n",
            "Linear Regression Model 32 fitted with SSD: 445.20060436887\n",
            "Linear Regression Model 33 fitted with SSD: 11875.586388820075\n",
            "Linear Regression Model 34 fitted with SSD: 245.90611670253278\n",
            "Linear Regression Model 35 fitted with SSD: 13333.249995312472\n",
            "Linear Regression Model 36 fitted with SSD: 333331.2498828117\n",
            "Linear Regression Model 37 fitted with SSD: 13333.249995312464\n",
            "Linear Regression Model 38 fitted with SSD: 399.47256288305846\n",
            "Linear Regression Model 39 fitted with SSD: 5688391.106745888\n",
            "Linear Regression Model 40 fitted with SSD: 5678605.035015991\n",
            "Linear Regression Model 41 fitted with SSD: 48.97279528408367\n",
            "Linear Regression Model 42 fitted with SSD: 50.72001331348142\n",
            "Linear Regression Model 43 fitted with SSD: 1314.0433212881549\n",
            "Linear Regression Model 44 fitted with SSD: 6.14515130844061e-06\n",
            "Linear Regression Model 45 fitted with SSD: 1314.043292083566\n",
            "Linear Regression Model 46 fitted with SSD: 1314.0432655984382\n",
            "Linear Regression Model 47 fitted with SSD: 1314.0432655984382\n",
            "Linear Regression Model 48 fitted with SSD: 12.631251453509453\n",
            "Linear Regression Model 49 fitted with SSD: 195.9312248590957\n",
            "Linear Regression Model 50 fitted with SSD: 157.35927898400473\n"
          ]
        }
      ]
    },
    {
      "cell_type": "code",
      "source": [
        "#Random Forest Regression\n",
        "rf_models, rf_ssds = fit_and_evaluate_model(RandomForestRegressor(n_estimators=100, random_state=0), \"Random Forest\")"
      ],
      "metadata": {
        "colab": {
          "base_uri": "https://localhost:8080/"
        },
        "id": "67oRAy8ciKtR",
        "outputId": "9ef53a8f-7aec-4e36-bedb-a3a80a0d8649"
      },
      "execution_count": 26,
      "outputs": [
        {
          "output_type": "stream",
          "name": "stdout",
          "text": [
            "Random Forest Model 1 fitted with SSD: 0.07863130045085402\n",
            "Random Forest Model 2 fitted with SSD: 0.07434903588049785\n",
            "Random Forest Model 3 fitted with SSD: 0.07863101703871414\n",
            "Random Forest Model 4 fitted with SSD: 0.07434903136820054\n",
            "Random Forest Model 5 fitted with SSD: 0.07863101703871414\n",
            "Random Forest Model 6 fitted with SSD: 0.07863130045085402\n",
            "Random Forest Model 7 fitted with SSD: 0.01799577703259833\n",
            "Random Forest Model 8 fitted with SSD: 56.03880737801869\n",
            "Random Forest Model 9 fitted with SSD: 0.29739613335081583\n",
            "Random Forest Model 10 fitted with SSD: 11.410277074898133\n",
            "Random Forest Model 11 fitted with SSD: 0.15062999999998108\n",
            "Random Forest Model 12 fitted with SSD: 1.3556700000005806\n",
            "Random Forest Model 13 fitted with SSD: 0.6025199999999493\n",
            "Random Forest Model 14 fitted with SSD: 0.15062999999998108\n",
            "Random Forest Model 15 fitted with SSD: 0.03765749999999188\n",
            "Random Forest Model 16 fitted with SSD: 86.23503289999897\n",
            "Random Forest Model 17 fitted with SSD: 86.23503289999897\n",
            "Random Forest Model 18 fitted with SSD: 344.9401315999959\n",
            "Random Forest Model 19 fitted with SSD: 86.23503290000005\n",
            "Random Forest Model 20 fitted with SSD: 91.26545689999666\n",
            "Random Forest Model 21 fitted with SSD: 49510.52471098678\n",
            "Random Forest Model 22 fitted with SSD: 49510.52471163998\n",
            "Random Forest Model 23 fitted with SSD: 49510.52471098678\n",
            "Random Forest Model 24 fitted with SSD: 198042.0988439471\n",
            "Random Forest Model 25 fitted with SSD: 445594.45538514183\n",
            "Random Forest Model 26 fitted with SSD: 54301.5755314197\n",
            "Random Forest Model 27 fitted with SSD: 54075.89843247771\n",
            "Random Forest Model 28 fitted with SSD: 49640.013704869525\n",
            "Random Forest Model 29 fitted with SSD: 49616.350680798125\n",
            "Random Forest Model 30 fitted with SSD: 49816.28296876341\n",
            "Random Forest Model 31 fitted with SSD: 0.15197799999997916\n",
            "Random Forest Model 32 fitted with SSD: 0.031134602770468145\n",
            "Random Forest Model 33 fitted with SSD: 0.12777482723430592\n",
            "Random Forest Model 34 fitted with SSD: 0.1570452712562483\n",
            "Random Forest Model 35 fitted with SSD: 0.15197800000002437\n",
            "Random Forest Model 36 fitted with SSD: 3.799449999999718\n",
            "Random Forest Model 37 fitted with SSD: 0.15197799999997916\n",
            "Random Forest Model 38 fitted with SSD: 0.15532743854816483\n",
            "Random Forest Model 39 fitted with SSD: 86.52665010581796\n",
            "Random Forest Model 40 fitted with SSD: 147.65952116311064\n",
            "Random Forest Model 41 fitted with SSD: 0.6367743226482996\n",
            "Random Forest Model 42 fitted with SSD: 0.6325302756905614\n",
            "Random Forest Model 43 fitted with SSD: 170.36183276184505\n",
            "Random Forest Model 44 fitted with SSD: 1.7365235725628852e-09\n",
            "Random Forest Model 45 fitted with SSD: 170.3618337914844\n",
            "Random Forest Model 46 fitted with SSD: 170.36182107492016\n",
            "Random Forest Model 47 fitted with SSD: 170.36182107492016\n",
            "Random Forest Model 48 fitted with SSD: 0.01879329118780188\n",
            "Random Forest Model 49 fitted with SSD: 0.07996765653026314\n",
            "Random Forest Model 50 fitted with SSD: 0.05723522346789856\n"
          ]
        }
      ]
    },
    {
      "cell_type": "code",
      "source": [
        "#Support Vector Regression\n",
        "svr_models, svr_ssds = fit_and_evaluate_model(SVR(kernel='rbf', C=100, gamma=0.1, epsilon=0.1), \"SVR\")"
      ],
      "metadata": {
        "colab": {
          "base_uri": "https://localhost:8080/"
        },
        "id": "d6BMDG3JhxpH",
        "outputId": "f90914d5-7bef-4c8d-8c78-aba4437b23ed"
      },
      "execution_count": 27,
      "outputs": [
        {
          "output_type": "stream",
          "name": "stdout",
          "text": [
            "SVR Model 1 fitted with SSD: 2.0307636975962433\n",
            "SVR Model 2 fitted with SSD: 2.0040030262303263\n",
            "SVR Model 3 fitted with SSD: 2.0330760323116537\n",
            "SVR Model 4 fitted with SSD: 2.000367339733538\n",
            "SVR Model 5 fitted with SSD: 2.030808464966585\n",
            "SVR Model 6 fitted with SSD: 2.032309022130132\n",
            "SVR Model 7 fitted with SSD: 2.4144106869449713\n",
            "SVR Model 8 fitted with SSD: 206.66118517020465\n",
            "SVR Model 9 fitted with SSD: 2.0066297560304496\n",
            "SVR Model 10 fitted with SSD: 2.1892249605938447\n",
            "SVR Model 11 fitted with SSD: 2.9171940115718336\n",
            "SVR Model 12 fitted with SSD: 3.3179941727833757\n",
            "SVR Model 13 fitted with SSD: 3.0415790321912866\n",
            "SVR Model 14 fitted with SSD: 2.9231139763940943\n",
            "SVR Model 15 fitted with SSD: 3.161798015336504\n",
            "SVR Model 16 fitted with SSD: 429.7785164521559\n",
            "SVR Model 17 fitted with SSD: 429.7595058804981\n",
            "SVR Model 18 fitted with SSD: 7319.572421304103\n",
            "SVR Model 19 fitted with SSD: 429.78869863243574\n",
            "SVR Model 20 fitted with SSD: 873.7617300579519\n",
            "SVR Model 21 fitted with SSD: 519732953.40787244\n",
            "SVR Model 22 fitted with SSD: 178683994.7567193\n",
            "SVR Model 23 fitted with SSD: 519735654.8904768\n",
            "SVR Model 24 fitted with SSD: 5273682457.3991\n",
            "SVR Model 25 fitted with SSD: 16629489466.359798\n",
            "SVR Model 26 fitted with SSD: 701402497.3034555\n",
            "SVR Model 27 fitted with SSD: 721532649.743574\n",
            "SVR Model 28 fitted with SSD: 524943205.9132395\n",
            "SVR Model 29 fitted with SSD: 521621442.12049115\n",
            "SVR Model 30 fitted with SSD: 536338789.9128264\n",
            "SVR Model 31 fitted with SSD: 2.1202141223707858\n",
            "SVR Model 32 fitted with SSD: 2.406578703126407\n",
            "SVR Model 33 fitted with SSD: 2.8932394365896865\n",
            "SVR Model 34 fitted with SSD: 7.923406851784559\n",
            "SVR Model 35 fitted with SSD: 2.111635348004816\n",
            "SVR Model 36 fitted with SSD: 19.12137544270141\n",
            "SVR Model 37 fitted with SSD: 2.1159193805560745\n",
            "SVR Model 38 fitted with SSD: 2.0033200036612633\n",
            "SVR Model 39 fitted with SSD: 432.6019900225555\n",
            "SVR Model 40 fitted with SSD: 7362.970028049464\n",
            "SVR Model 41 fitted with SSD: 3.078000490791781\n",
            "SVR Model 42 fitted with SSD: 3.030532460007735\n",
            "SVR Model 43 fitted with SSD: 799.1977654955165\n",
            "SVR Model 44 fitted with SSD: 0.000595798678623245\n",
            "SVR Model 45 fitted with SSD: 799.18406483251\n",
            "SVR Model 46 fitted with SSD: 799.1883390302769\n",
            "SVR Model 47 fitted with SSD: 799.1574316346213\n",
            "SVR Model 48 fitted with SSD: 2.412736016345767\n",
            "SVR Model 49 fitted with SSD: 2.331782776730826\n",
            "SVR Model 50 fitted with SSD: 2.2702162607252543\n"
          ]
        }
      ]
    },
    {
      "cell_type": "code",
      "source": [
        "#Gradient Boost Regression\n",
        "gbr_models, gbr_ssds = fit_and_evaluate_model(GradientBoostingRegressor(n_estimators=100, random_state=0), \"Gradient Boosting\")"
      ],
      "metadata": {
        "colab": {
          "base_uri": "https://localhost:8080/"
        },
        "id": "uU6od_uTiQfV",
        "outputId": "d943e7e7-e94c-4363-f0e8-1de8b5751fd3"
      },
      "execution_count": 28,
      "outputs": [
        {
          "output_type": "stream",
          "name": "stdout",
          "text": [
            "Gradient Boosting Model 1 fitted with SSD: 3.283063392602343\n",
            "Gradient Boosting Model 2 fitted with SSD: 3.601209570442623\n",
            "Gradient Boosting Model 3 fitted with SSD: 3.2830636864201503\n",
            "Gradient Boosting Model 4 fitted with SSD: 3.551505235348199\n",
            "Gradient Boosting Model 5 fitted with SSD: 3.2830636864201503\n",
            "Gradient Boosting Model 6 fitted with SSD: 3.283063392602343\n",
            "Gradient Boosting Model 7 fitted with SSD: 0.3260312012395211\n",
            "Gradient Boosting Model 8 fitted with SSD: 158.18598198594418\n",
            "Gradient Boosting Model 9 fitted with SSD: 14.20601912691463\n",
            "Gradient Boosting Model 10 fitted with SSD: 226.8937997129728\n",
            "Gradient Boosting Model 11 fitted with SSD: 2.24294725565818\n",
            "Gradient Boosting Model 12 fitted with SSD: 20.18652530092435\n",
            "Gradient Boosting Model 13 fitted with SSD: 8.97178902263321\n",
            "Gradient Boosting Model 14 fitted with SSD: 2.24294725565818\n",
            "Gradient Boosting Model 15 fitted with SSD: 0.5607368139145619\n",
            "Gradient Boosting Model 16 fitted with SSD: 831.8906447746617\n",
            "Gradient Boosting Model 17 fitted with SSD: 831.8906447746617\n",
            "Gradient Boosting Model 18 fitted with SSD: 3327.562579098647\n",
            "Gradient Boosting Model 19 fitted with SSD: 831.8906447746617\n",
            "Gradient Boosting Model 20 fitted with SSD: 676.109277722888\n",
            "Gradient Boosting Model 21 fitted with SSD: 216341.37532507844\n",
            "Gradient Boosting Model 22 fitted with SSD: 257927.12012411692\n",
            "Gradient Boosting Model 23 fitted with SSD: 216341.37532507844\n",
            "Gradient Boosting Model 24 fitted with SSD: 865365.5013003137\n",
            "Gradient Boosting Model 25 fitted with SSD: 1947072.5146351587\n",
            "Gradient Boosting Model 26 fitted with SSD: 218730.23547163268\n",
            "Gradient Boosting Model 27 fitted with SSD: 218689.0046196559\n",
            "Gradient Boosting Model 28 fitted with SSD: 227486.22305467408\n",
            "Gradient Boosting Model 29 fitted with SSD: 212450.57482026558\n",
            "Gradient Boosting Model 30 fitted with SSD: 212207.80071592762\n",
            "Gradient Boosting Model 31 fitted with SSD: 2.6079928386381797\n",
            "Gradient Boosting Model 32 fitted with SSD: 0.10714626886781582\n",
            "Gradient Boosting Model 33 fitted with SSD: 1.8996484203204347\n",
            "Gradient Boosting Model 34 fitted with SSD: 4.441094142095119\n",
            "Gradient Boosting Model 35 fitted with SSD: 2.6079928386382374\n",
            "Gradient Boosting Model 36 fitted with SSD: 61.954350345853385\n",
            "Gradient Boosting Model 37 fitted with SSD: 2.6079928386381797\n",
            "Gradient Boosting Model 38 fitted with SSD: 7.406569846486187\n",
            "Gradient Boosting Model 39 fitted with SSD: 846.4154561379924\n",
            "Gradient Boosting Model 40 fitted with SSD: 810.4285339761833\n",
            "Gradient Boosting Model 41 fitted with SSD: 8.939831574006991\n",
            "Gradient Boosting Model 42 fitted with SSD: 8.683782696132498\n",
            "Gradient Boosting Model 43 fitted with SSD: 0.6034498754456479\n",
            "Gradient Boosting Model 44 fitted with SSD: 2.427999082313361e-08\n",
            "Gradient Boosting Model 45 fitted with SSD: 0.6034499023032324\n",
            "Gradient Boosting Model 46 fitted with SSD: 0.603449779421303\n",
            "Gradient Boosting Model 47 fitted with SSD: 0.603449779421303\n",
            "Gradient Boosting Model 48 fitted with SSD: 1.6158742664754209\n",
            "Gradient Boosting Model 49 fitted with SSD: 3.588202706505637\n",
            "Gradient Boosting Model 50 fitted with SSD: 2.4484138775807156\n"
          ]
        }
      ]
    },
    {
      "cell_type": "code",
      "source": [
        "#k-Nearest Neighbours\n",
        "knn_models, knn_ssds = fit_and_evaluate_model(KNeighborsRegressor(n_neighbors=5), \"KNN\")"
      ],
      "metadata": {
        "colab": {
          "base_uri": "https://localhost:8080/"
        },
        "id": "fVngQYYAiR3A",
        "outputId": "b9ddbae6-6fa2-4166-a2cb-69510e29e560"
      },
      "execution_count": 29,
      "outputs": [
        {
          "output_type": "stream",
          "name": "stdout",
          "text": [
            "KNN Model 1 fitted with SSD: 0.05471714495987262\n",
            "KNN Model 2 fitted with SSD: 0.08377948043606641\n",
            "KNN Model 3 fitted with SSD: 0.054716936706780406\n",
            "KNN Model 4 fitted with SSD: 0.08377949496490428\n",
            "KNN Model 5 fitted with SSD: 0.054716936706780406\n",
            "KNN Model 6 fitted with SSD: 0.05471714495987262\n",
            "KNN Model 7 fitted with SSD: 0.00632224987447946\n",
            "KNN Model 8 fitted with SSD: 168.6164733167912\n",
            "KNN Model 9 fitted with SSD: 0.33511797715188085\n",
            "KNN Model 10 fitted with SSD: 18.241767388924345\n",
            "KNN Model 11 fitted with SSD: 0.09999999999999928\n",
            "KNN Model 12 fitted with SSD: 0.9000000000000044\n",
            "KNN Model 13 fitted with SSD: 0.39999999999999714\n",
            "KNN Model 14 fitted with SSD: 0.09999999999999928\n",
            "KNN Model 15 fitted with SSD: 0.025\n",
            "KNN Model 16 fitted with SSD: 156.65939999999955\n",
            "KNN Model 17 fitted with SSD: 156.65939999999955\n",
            "KNN Model 18 fitted with SSD: 626.6375999999982\n",
            "KNN Model 19 fitted with SSD: 156.65939999999955\n",
            "KNN Model 20 fitted with SSD: 160.13939999999835\n",
            "KNN Model 21 fitted with SSD: 137968.96704999992\n",
            "KNN Model 22 fitted with SSD: 137968.96707287992\n",
            "KNN Model 23 fitted with SSD: 137968.96704999992\n",
            "KNN Model 24 fitted with SSD: 551875.8681999997\n",
            "KNN Model 25 fitted with SSD: 1241720.7005951991\n",
            "KNN Model 26 fitted with SSD: 146015.90785000077\n",
            "KNN Model 27 fitted with SSD: 146864.466250001\n",
            "KNN Model 28 fitted with SSD: 138203.82384999972\n",
            "KNN Model 29 fitted with SSD: 138055.1532500011\n",
            "KNN Model 30 fitted with SSD: 138736.55104999884\n",
            "KNN Model 31 fitted with SSD: 0.11759999999995382\n",
            "KNN Model 32 fitted with SSD: 0.10269767359202812\n",
            "KNN Model 33 fitted with SSD: 0.09926351155624108\n",
            "KNN Model 34 fitted with SSD: 0.20824184620658753\n",
            "KNN Model 35 fitted with SSD: 0.1176000000000006\n",
            "KNN Model 36 fitted with SSD: 2.939999999998863\n",
            "KNN Model 37 fitted with SSD: 0.11759999999995382\n",
            "KNN Model 38 fitted with SSD: 0.14141258095447842\n",
            "KNN Model 39 fitted with SSD: 157.01846932135226\n",
            "KNN Model 40 fitted with SSD: 203.5728517480682\n",
            "KNN Model 41 fitted with SSD: 0.5323952670794854\n",
            "KNN Model 42 fitted with SSD: 0.4150024059212418\n",
            "KNN Model 43 fitted with SSD: 571.2658748629246\n",
            "KNN Model 44 fitted with SSD: 1.4470965911800575e-09\n",
            "KNN Model 45 fitted with SSD: 571.2658756654731\n",
            "KNN Model 46 fitted with SSD: 571.2658391630201\n",
            "KNN Model 47 fitted with SSD: 571.2658391630201\n",
            "KNN Model 48 fitted with SSD: 0.021809637919414225\n",
            "KNN Model 49 fitted with SSD: 0.07200409914344492\n",
            "KNN Model 50 fitted with SSD: 0.06175006347237658\n"
          ]
        }
      ]
    },
    {
      "cell_type": "code",
      "source": [
        "#Neural Networks\n",
        "nn_models, nn_ssds = fit_and_evaluate_nn()"
      ],
      "metadata": {
        "colab": {
          "base_uri": "https://localhost:8080/"
        },
        "id": "lBLfyDwOiR8S",
        "outputId": "fb940632-b820-427e-a99a-4d5d436810c9"
      },
      "execution_count": 30,
      "outputs": [
        {
          "output_type": "stream",
          "name": "stdout",
          "text": [
            "13/13 [==============================] - 0s 5ms/step\n",
            "Neural Network Model 1 fitted with SSD: 161.7993116162296\n",
            "13/13 [==============================] - 0s 2ms/step\n",
            "Neural Network Model 2 fitted with SSD: 178.40860266447652\n",
            "13/13 [==============================] - 0s 2ms/step\n",
            "Neural Network Model 3 fitted with SSD: 177.58173103174022\n",
            "13/13 [==============================] - 0s 2ms/step\n",
            "Neural Network Model 4 fitted with SSD: 165.3551191406729\n",
            "13/13 [==============================] - 0s 3ms/step\n",
            "Neural Network Model 5 fitted with SSD: 206.62801934104772\n",
            "13/13 [==============================] - 0s 2ms/step\n",
            "Neural Network Model 6 fitted with SSD: 178.8094415839945\n",
            "13/13 [==============================] - 0s 6ms/step\n",
            "Neural Network Model 7 fitted with SSD: 163.4844317354998\n",
            "13/13 [==============================] - 0s 3ms/step\n",
            "Neural Network Model 8 fitted with SSD: 203.11437528230766\n",
            "13/13 [==============================] - 0s 2ms/step\n",
            "Neural Network Model 9 fitted with SSD: 699.2142334222099\n",
            "13/13 [==============================] - 0s 2ms/step\n",
            "Neural Network Model 10 fitted with SSD: 25093.42998305287\n",
            "13/13 [==============================] - 0s 4ms/step\n",
            "Neural Network Model 11 fitted with SSD: 0.016727814940934678\n",
            "13/13 [==============================] - 0s 2ms/step\n",
            "Neural Network Model 12 fitted with SSD: 2.7902801534490576\n",
            "13/13 [==============================] - 0s 2ms/step\n",
            "Neural Network Model 13 fitted with SSD: 3.490676025129403\n",
            "13/13 [==============================] - 0s 3ms/step\n",
            "Neural Network Model 14 fitted with SSD: 0.026592283393308765\n",
            "13/13 [==============================] - 0s 2ms/step\n",
            "Neural Network Model 15 fitted with SSD: 0.046393187009304414\n",
            "13/13 [==============================] - 0s 2ms/step\n",
            "Neural Network Model 16 fitted with SSD: 415623.6196041671\n",
            "13/13 [==============================] - 0s 2ms/step\n",
            "Neural Network Model 17 fitted with SSD: 450558.35454214545\n",
            "13/13 [==============================] - 0s 2ms/step\n",
            "Neural Network Model 18 fitted with SSD: 2352192.9527495643\n",
            "13/13 [==============================] - 0s 2ms/step\n",
            "Neural Network Model 19 fitted with SSD: 349939.25836578803\n",
            "13/13 [==============================] - 0s 2ms/step\n",
            "Neural Network Model 20 fitted with SSD: 381010.1249982595\n",
            "13/13 [==============================] - 0s 2ms/step\n",
            "Neural Network Model 21 fitted with SSD: 587748255.2162771\n",
            "13/13 [==============================] - 0s 2ms/step\n",
            "Neural Network Model 22 fitted with SSD: 584903136.6791586\n",
            "13/13 [==============================] - 0s 2ms/step\n",
            "Neural Network Model 23 fitted with SSD: 579506749.351269\n",
            "13/13 [==============================] - 0s 4ms/step\n",
            "Neural Network Model 24 fitted with SSD: 2456107345.142644\n",
            "13/13 [==============================] - 0s 2ms/step\n",
            "Neural Network Model 25 fitted with SSD: 5570061239.45292\n",
            "13/13 [==============================] - 0s 2ms/step\n",
            "Neural Network Model 26 fitted with SSD: 620216686.3076189\n",
            "13/13 [==============================] - 0s 2ms/step\n",
            "Neural Network Model 27 fitted with SSD: 614574776.4569635\n",
            "13/13 [==============================] - 0s 2ms/step\n",
            "Neural Network Model 28 fitted with SSD: 586783464.9883168\n",
            "13/13 [==============================] - 0s 2ms/step\n",
            "Neural Network Model 29 fitted with SSD: 589121800.0645869\n",
            "13/13 [==============================] - 0s 2ms/step\n",
            "Neural Network Model 30 fitted with SSD: 595764544.3445733\n",
            "13/13 [==============================] - 0s 4ms/step\n",
            "Neural Network Model 31 fitted with SSD: 0.0025834214663305543\n",
            "13/13 [==============================] - 0s 2ms/step\n",
            "Neural Network Model 32 fitted with SSD: 0.15676678716677708\n",
            "13/13 [==============================] - 0s 3ms/step\n",
            "Neural Network Model 33 fitted with SSD: 7.163178507751722\n",
            "13/13 [==============================] - 0s 2ms/step\n",
            "Neural Network Model 34 fitted with SSD: 210.18904442166257\n",
            "13/13 [==============================] - 0s 2ms/step\n",
            "Neural Network Model 35 fitted with SSD: 1.3426647812435175\n",
            "13/13 [==============================] - 0s 2ms/step\n",
            "Neural Network Model 36 fitted with SSD: 24.484556780494238\n",
            "13/13 [==============================] - 0s 2ms/step\n",
            "Neural Network Model 37 fitted with SSD: 0.014467682230440917\n",
            "13/13 [==============================] - 0s 2ms/step\n",
            "Neural Network Model 38 fitted with SSD: 331.61568663367075\n",
            "13/13 [==============================] - 0s 2ms/step\n",
            "Neural Network Model 39 fitted with SSD: 474145.821451612\n",
            "13/13 [==============================] - 0s 2ms/step\n",
            "Neural Network Model 40 fitted with SSD: 230083.37288104574\n",
            "13/13 [==============================] - 0s 2ms/step\n",
            "Neural Network Model 41 fitted with SSD: 48.851412306407425\n",
            "13/13 [==============================] - 0s 3ms/step\n",
            "Neural Network Model 42 fitted with SSD: 46.78160498599176\n",
            "13/13 [==============================] - 0s 2ms/step\n",
            "Neural Network Model 43 fitted with SSD: 813.7219436388187\n",
            "13/13 [==============================] - 0s 2ms/step\n",
            "Neural Network Model 44 fitted with SSD: 0.00014082653678715372\n",
            "13/13 [==============================] - 0s 2ms/step\n",
            "Neural Network Model 45 fitted with SSD: 828.5618020709048\n",
            "13/13 [==============================] - 0s 2ms/step\n",
            "Neural Network Model 46 fitted with SSD: 642.6680664233991\n",
            "13/13 [==============================] - 0s 2ms/step\n",
            "Neural Network Model 47 fitted with SSD: 697.0099062732843\n",
            "13/13 [==============================] - 0s 3ms/step\n",
            "Neural Network Model 48 fitted with SSD: 13.221272405673716\n",
            "13/13 [==============================] - 0s 2ms/step\n",
            "Neural Network Model 49 fitted with SSD: 164.69557210082124\n",
            "13/13 [==============================] - 0s 2ms/step\n",
            "Neural Network Model 50 fitted with SSD: 143.3852662326736\n"
          ]
        }
      ]
    },
    {
      "cell_type": "code",
      "source": [
        "# Combine all SSDs and models\n",
        "all_ssds = linear_ssds + rf_ssds + svr_ssds + gbr_ssds + knn_ssds + nn_ssds\n",
        "all_models = linear_models + rf_models + svr_models + gbr_models + knn_models + nn_models\n"
      ],
      "metadata": {
        "id": "MA1ugMfakcDD"
      },
      "execution_count": 31,
      "outputs": []
    },
    {
      "cell_type": "code",
      "source": [
        "# Prepare data for the Excel file including combined SSDs\n",
        "data = {\n",
        "    \"Ideal Function\": [f\"y{i}\" for i in range(1, 51)],\n",
        "    \"SSD of LR\": linear_ssds,\n",
        "    \"SSD of RF\": rf_ssds,\n",
        "    \"SSD of SVR\": svr_ssds,\n",
        "    \"SSD of GBR\": gbr_ssds,\n",
        "    \"SSD of kNN\": knn_ssds,\n",
        "    \"SSD of NN\": nn_ssds,\n",
        "    \"Combined SSDs\": all_ssds[:50]  # Assuming each ideal function is fitted by each model\n",
        "}\n"
      ],
      "metadata": {
        "id": "WlFnBa7Fkcq3"
      },
      "execution_count": 32,
      "outputs": []
    },
    {
      "cell_type": "code",
      "source": [
        "# Create a DataFrame\n",
        "ssds_df = pd.DataFrame(data)"
      ],
      "metadata": {
        "id": "xTld9tkek9pH"
      },
      "execution_count": 33,
      "outputs": []
    },
    {
      "cell_type": "code",
      "source": [
        "# Save the DataFrame to an Excel file\n",
        "# Save the DataFrame to an Excel file\n",
        "ssds_df.to_excel(\"ssds_values_combined.xlsx\", index=False)\n",
        "\n",
        "print(\"SSD values saved to 'ssds_values_combined.xlsx'\")"
      ],
      "metadata": {
        "colab": {
          "base_uri": "https://localhost:8080/"
        },
        "id": "6PMPC8NAlDUZ",
        "outputId": "37ebd8ae-a016-4500-8f99-68bd9cae4ad1"
      },
      "execution_count": 34,
      "outputs": [
        {
          "output_type": "stream",
          "name": "stdout",
          "text": [
            "SSD values saved to 'ssds_values_combined.xlsx'\n"
          ]
        }
      ]
    },
    {
      "cell_type": "code",
      "source": [
        "# Print the SSD values\n",
        "print(ssds_df)"
      ],
      "metadata": {
        "colab": {
          "base_uri": "https://localhost:8080/"
        },
        "id": "zMUTXxFglD3a",
        "outputId": "11b514e7-5a13-4a3f-a802-5f115460ba1d"
      },
      "execution_count": 35,
      "outputs": [
        {
          "output_type": "stream",
          "name": "stdout",
          "text": [
            "   Ideal Function     SSD of LR     SSD of RF    SSD of SVR    SSD of GBR  \\\n",
            "0              y1  1.958913e+02  7.863130e-02  2.030764e+00  3.283063e+00   \n",
            "1              y2  2.028801e+02  7.434904e-02  2.004003e+00  3.601210e+00   \n",
            "2              y3  1.958913e+02  7.863102e-02  2.033076e+00  3.283064e+00   \n",
            "3              y4  2.028801e+02  7.434903e-02  2.000367e+00  3.551505e+00   \n",
            "4              y5  1.958913e+02  7.863102e-02  2.030808e+00  3.283064e+00   \n",
            "5              y6  1.958913e+02  7.863130e-02  2.032309e+00  3.283063e+00   \n",
            "6              y7  2.079339e+02  1.799578e-02  2.414411e+00  3.260312e-01   \n",
            "7              y8  2.055767e+02  5.603881e+01  2.066612e+02  1.581860e+02   \n",
            "8              y9  8.115203e+02  2.973961e-01  2.006630e+00  1.420602e+01   \n",
            "9             y10  2.519549e+04  1.141028e+01  2.189225e+00  2.268938e+02   \n",
            "10            y11  1.770475e-26  1.506300e-01  2.917194e+00  2.242947e+00   \n",
            "11            y12  9.916805e-25  1.355670e+00  3.317994e+00  2.018653e+01   \n",
            "12            y13  8.068385e-25  6.025200e-01  3.041579e+00  8.971789e+00   \n",
            "13            y14  1.770475e-26  1.506300e-01  2.923114e+00  2.242947e+00   \n",
            "14            y15  5.729700e-26  3.765750e-02  3.161798e+00  5.607368e-01   \n",
            "15            y16  5.688711e+06  8.623503e+01  4.297785e+02  8.318906e+02   \n",
            "16            y17  5.688711e+06  8.623503e+01  4.297595e+02  8.318906e+02   \n",
            "17            y18  2.275484e+07  3.449401e+02  7.319572e+03  3.327563e+03   \n",
            "18            y19  5.688711e+06  8.623503e+01  4.297887e+02  8.318906e+02   \n",
            "19            y20  5.688711e+06  9.126546e+01  8.737617e+02  6.761093e+02   \n",
            "20            y21  5.852197e+08  4.951052e+04  5.197330e+08  2.163414e+05   \n",
            "21            y22  2.057113e+09  4.951052e+04  1.786840e+08  2.579271e+05   \n",
            "22            y23  5.852197e+08  4.951052e+04  5.197357e+08  2.163414e+05   \n",
            "23            y24  2.340879e+09  1.980421e+05  5.273682e+09  8.653655e+05   \n",
            "24            y25  5.266977e+09  4.455945e+05  1.662949e+10  1.947073e+06   \n",
            "25            y26  7.797736e+08  5.430158e+04  7.014025e+08  2.187302e+05   \n",
            "26            y27  8.002529e+08  5.407590e+04  7.215326e+08  2.186890e+05   \n",
            "27            y28  5.852197e+08  4.964001e+04  5.249432e+08  2.274862e+05   \n",
            "28            y29  5.892018e+08  4.961635e+04  5.216214e+08  2.124506e+05   \n",
            "29            y30  6.113877e+08  4.981628e+04  5.363388e+08  2.122078e+05   \n",
            "30            y31  1.333325e+04  1.519780e-01  2.120214e+00  2.607993e+00   \n",
            "31            y32  4.452006e+02  3.113460e-02  2.406579e+00  1.071463e-01   \n",
            "32            y33  1.187559e+04  1.277748e-01  2.893239e+00  1.899648e+00   \n",
            "33            y34  2.459061e+02  1.570453e-01  7.923407e+00  4.441094e+00   \n",
            "34            y35  1.333325e+04  1.519780e-01  2.111635e+00  2.607993e+00   \n",
            "35            y36  3.333312e+05  3.799450e+00  1.912138e+01  6.195435e+01   \n",
            "36            y37  1.333325e+04  1.519780e-01  2.115919e+00  2.607993e+00   \n",
            "37            y38  3.994726e+02  1.553274e-01  2.003320e+00  7.406570e+00   \n",
            "38            y39  5.688391e+06  8.652665e+01  4.326020e+02  8.464155e+02   \n",
            "39            y40  5.678605e+06  1.476595e+02  7.362970e+03  8.104285e+02   \n",
            "40            y41  4.897280e+01  6.367743e-01  3.078000e+00  8.939832e+00   \n",
            "41            y42  5.072001e+01  6.325303e-01  3.030532e+00  8.683783e+00   \n",
            "42            y43  1.314043e+03  1.703618e+02  7.991978e+02  6.034499e-01   \n",
            "43            y44  6.145151e-06  1.736524e-09  5.957987e-04  2.427999e-08   \n",
            "44            y45  1.314043e+03  1.703618e+02  7.991841e+02  6.034499e-01   \n",
            "45            y46  1.314043e+03  1.703618e+02  7.991883e+02  6.034498e-01   \n",
            "46            y47  1.314043e+03  1.703618e+02  7.991574e+02  6.034498e-01   \n",
            "47            y48  1.263125e+01  1.879329e-02  2.412736e+00  1.615874e+00   \n",
            "48            y49  1.959312e+02  7.996766e-02  2.331783e+00  3.588203e+00   \n",
            "49            y50  1.573593e+02  5.723522e-02  2.270216e+00  2.448414e+00   \n",
            "\n",
            "      SSD of kNN     SSD of NN  Combined SSDs  \n",
            "0   5.471714e-02  1.617993e+02   1.958913e+02  \n",
            "1   8.377948e-02  1.784086e+02   2.028801e+02  \n",
            "2   5.471694e-02  1.775817e+02   1.958913e+02  \n",
            "3   8.377949e-02  1.653551e+02   2.028801e+02  \n",
            "4   5.471694e-02  2.066280e+02   1.958913e+02  \n",
            "5   5.471714e-02  1.788094e+02   1.958913e+02  \n",
            "6   6.322250e-03  1.634844e+02   2.079339e+02  \n",
            "7   1.686165e+02  2.031144e+02   2.055767e+02  \n",
            "8   3.351180e-01  6.992142e+02   8.115203e+02  \n",
            "9   1.824177e+01  2.509343e+04   2.519549e+04  \n",
            "10  1.000000e-01  1.672781e-02   1.770475e-26  \n",
            "11  9.000000e-01  2.790280e+00   9.916805e-25  \n",
            "12  4.000000e-01  3.490676e+00   8.068385e-25  \n",
            "13  1.000000e-01  2.659228e-02   1.770475e-26  \n",
            "14  2.500000e-02  4.639319e-02   5.729700e-26  \n",
            "15  1.566594e+02  4.156236e+05   5.688711e+06  \n",
            "16  1.566594e+02  4.505584e+05   5.688711e+06  \n",
            "17  6.266376e+02  2.352193e+06   2.275484e+07  \n",
            "18  1.566594e+02  3.499393e+05   5.688711e+06  \n",
            "19  1.601394e+02  3.810101e+05   5.688711e+06  \n",
            "20  1.379690e+05  5.877483e+08   5.852197e+08  \n",
            "21  1.379690e+05  5.849031e+08   2.057113e+09  \n",
            "22  1.379690e+05  5.795067e+08   5.852197e+08  \n",
            "23  5.518759e+05  2.456107e+09   2.340879e+09  \n",
            "24  1.241721e+06  5.570061e+09   5.266977e+09  \n",
            "25  1.460159e+05  6.202167e+08   7.797736e+08  \n",
            "26  1.468645e+05  6.145748e+08   8.002529e+08  \n",
            "27  1.382038e+05  5.867835e+08   5.852197e+08  \n",
            "28  1.380552e+05  5.891218e+08   5.892018e+08  \n",
            "29  1.387366e+05  5.957645e+08   6.113877e+08  \n",
            "30  1.176000e-01  2.583421e-03   1.333325e+04  \n",
            "31  1.026977e-01  1.567668e-01   4.452006e+02  \n",
            "32  9.926351e-02  7.163179e+00   1.187559e+04  \n",
            "33  2.082418e-01  2.101890e+02   2.459061e+02  \n",
            "34  1.176000e-01  1.342665e+00   1.333325e+04  \n",
            "35  2.940000e+00  2.448456e+01   3.333312e+05  \n",
            "36  1.176000e-01  1.446768e-02   1.333325e+04  \n",
            "37  1.414126e-01  3.316157e+02   3.994726e+02  \n",
            "38  1.570185e+02  4.741458e+05   5.688391e+06  \n",
            "39  2.035729e+02  2.300834e+05   5.678605e+06  \n",
            "40  5.323953e-01  4.885141e+01   4.897280e+01  \n",
            "41  4.150024e-01  4.678160e+01   5.072001e+01  \n",
            "42  5.712659e+02  8.137219e+02   1.314043e+03  \n",
            "43  1.447097e-09  1.408265e-04   6.145151e-06  \n",
            "44  5.712659e+02  8.285618e+02   1.314043e+03  \n",
            "45  5.712658e+02  6.426681e+02   1.314043e+03  \n",
            "46  5.712658e+02  6.970099e+02   1.314043e+03  \n",
            "47  2.180964e-02  1.322127e+01   1.263125e+01  \n",
            "48  7.200410e-02  1.646956e+02   1.959312e+02  \n",
            "49  6.175006e-02  1.433853e+02   1.573593e+02  \n"
          ]
        }
      ]
    },
    {
      "cell_type": "code",
      "source": [
        "# Choose the four best models based on SSD\n",
        "chosen_indices = np.argsort(all_ssds)[:4]\n",
        "chosen_models = [all_models[i] for i in chosen_indices]\n",
        "print(f\"Chosen model indices: {chosen_indices}\")"
      ],
      "metadata": {
        "colab": {
          "base_uri": "https://localhost:8080/"
        },
        "id": "jRinA6NZkc2A",
        "outputId": "cea190e9-42f0-41de-8a0c-c42d69777ca6"
      },
      "execution_count": 36,
      "outputs": [
        {
          "output_type": "stream",
          "name": "stdout",
          "text": [
            "Chosen model indices: [13 10 14 12]\n"
          ]
        }
      ]
    },
    {
      "cell_type": "code",
      "source": [
        "# Predict on test data and evaluate\n",
        "test_predictions = np.zeros((len(X_test), 4))\n",
        "mse_values = []\n",
        "for i, model in enumerate(chosen_models):\n",
        "    test_predictions[:, i] = model.predict(X_test).flatten()\n",
        "    mse = mean_squared_error(test_df[\"y\"], test_predictions[:, i])\n",
        "    mse_values.append(mse)\n",
        "    print(f\"Predictions from model {chosen_indices[i] + 1} completed with MSE: {mse}\")"
      ],
      "metadata": {
        "colab": {
          "base_uri": "https://localhost:8080/"
        },
        "id": "drYqDPVimqik",
        "outputId": "f12432f4-9217-4c6e-d8d0-e50303f90d9c"
      },
      "execution_count": 37,
      "outputs": [
        {
          "output_type": "stream",
          "name": "stdout",
          "text": [
            "Predictions from model 14 completed with MSE: 426.19644471177133\n",
            "Predictions from model 11 completed with MSE: 426.19644471177133\n",
            "Predictions from model 15 completed with MSE: 426.19644471177133\n",
            "Predictions from model 13 completed with MSE: 426.19644471177133\n"
          ]
        }
      ]
    },
    {
      "cell_type": "code",
      "source": [
        "# Visualize the results\n",
        "plt.figure(figsize=(10, 6))\n",
        "plt.scatter(X_test, test_df[\"y\"], label=\"Test Data\")\n",
        "for i in range(4):\n",
        "    plt.plot(X_test, test_predictions[:, i], label=f\"Ideal Function {chosen_indices[i] + 1}\")\n",
        "plt.xlabel(\"x\")\n",
        "plt.ylabel(\"y\")\n",
        "plt.title(\"Test Data and Predictions\")\n",
        "plt.legend()\n",
        "plt.grid(True)\n",
        "plt.savefig(\"test_predictions.png\")\n",
        "plt.show()\n",
        "print(\"Visualization completed and saved as 'test_predictions.png'\")"
      ],
      "metadata": {
        "colab": {
          "base_uri": "https://localhost:8080/",
          "height": 581
        },
        "id": "G6u57-hmmqsC",
        "outputId": "c0ac42ed-d3d8-4b3f-bebb-de0451903a33"
      },
      "execution_count": 38,
      "outputs": [
        {
          "output_type": "display_data",
          "data": {
            "text/plain": [
              "<Figure size 1000x600 with 1 Axes>"
            ],
            "image/png": "[encoded data removed]"
          },
          "metadata": {}
        },
        {
          "output_type": "stream",
          "name": "stdout",
          "text": [
            "Visualization completed and saved as 'test_predictions.png'\n"
          ]
        }
      ]
    }
  ]
}