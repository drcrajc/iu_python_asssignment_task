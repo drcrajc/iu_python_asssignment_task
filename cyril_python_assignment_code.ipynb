{
  "nbformat": 4,
  "nbformat_minor": 0,
  "metadata": {
    "colab": {
      "provenance": []
    },
    "kernelspec": {
      "name": "python3",
      "display_name": "Python 3"
    },
    "language_info": {
      "name": "python"
    }
  },
  "cells": [
    {
      "cell_type": "code",
      "source": [
        "from google.colab import drive\n",
        "drive.mount('/content/drive')"
      ],
      "metadata": {
        "colab": {
          "base_uri": "https://localhost:8080/"
        },
        "id": "yOLuEr7kbOkI",
        "outputId": "3b05abf1-5e78-4f94-9eb8-e47706cd8723"
      },
      "execution_count": 1,
      "outputs": [
        {
          "output_type": "stream",
          "name": "stdout",
          "text": [
            "Drive already mounted at /content/drive; to attempt to forcibly remount, call drive.mount(\"/content/drive\", force_remount=True).\n"
          ]
        }
      ]
    },
    {
      "cell_type": "code",
      "execution_count": 2,
      "metadata": {
        "colab": {
          "base_uri": "https://localhost:8080/"
        },
        "id": "Jzbn25s0bIra",
        "outputId": "c0935fa9-066c-4980-a949-5299a041e363"
      },
      "outputs": [
        {
          "output_type": "stream",
          "name": "stdout",
          "text": [
            "Datasets loaded successfully\n"
          ]
        }
      ],
      "source": [
        "import pandas as pd\n",
        "import numpy as np\n",
        "from sklearn.linear_model import LinearRegression\n",
        "from sklearn.ensemble import RandomForestRegressor, GradientBoostingRegressor\n",
        "from sklearn.svm import SVR\n",
        "from sklearn.neighbors import KNeighborsRegressor\n",
        "from sklearn.metrics import mean_squared_error\n",
        "from keras.models import Sequential\n",
        "from keras.layers import Dense\n",
        "import matplotlib.pyplot as plt\n",
        "\n",
        "# Load datasets\n",
        "ideal_df = pd.read_csv(\"/content/drive/MyDrive/iubh_python_assign/dataset/ideal.csv\")\n",
        "test_df = pd.read_csv(\"/content/drive/MyDrive/iubh_python_assign/dataset/test.csv\")\n",
        "train_df = pd.read_csv(\"/content/drive/MyDrive/iubh_python_assign/dataset/train.csv\")\n",
        "print(\"Datasets loaded successfully\")"
      ]
    },
    {
      "cell_type": "code",
      "source": [
        "# Prepare training and test data\n",
        "X_train = train_df[\"x\"].values.reshape(-1, 1)\n",
        "y_train = train_df.drop(columns=[\"x\"]).values.ravel()\n",
        "X_test = test_df[\"x\"].values.reshape(-1, 1)\n",
        "print(\"Training and test data prepared\")"
      ],
      "metadata": {
        "colab": {
          "base_uri": "https://localhost:8080/"
        },
        "id": "DpNXXeOXhsfy",
        "outputId": "5e559e4d-5738-4fcb-8b8a-55f949a1c5f0"
      },
      "execution_count": 3,
      "outputs": [
        {
          "output_type": "stream",
          "name": "stdout",
          "text": [
            "Training and test data prepared\n"
          ]
        }
      ]
    },
    {
      "cell_type": "code",
      "source": [
        "# Define a function to fit models and calculate SSD\n",
        "def fit_and_evaluate_model(model, model_name):\n",
        "    models = []\n",
        "    ssds = []\n",
        "\n",
        "    for i in range(1, 51):\n",
        "        y_ideal = ideal_df[f\"y{i}\"].values.ravel()\n",
        "        model.fit(X_train, y_ideal)\n",
        "        y_pred = model.predict(X_train)\n",
        "        ssd = np.sum((y_pred - y_ideal)**2)  # Use y_ideal instead of y_train for SSD calculation\n",
        "        models.append(model)\n",
        "        ssds.append(ssd)\n",
        "        print(f\"{model_name} Model {i} fitted with SSD: {ssd}\")\n",
        "\n",
        "    return models, ssds"
      ],
      "metadata": {
        "id": "abb9GGGzhxU8"
      },
      "execution_count": 4,
      "outputs": []
    },
    {
      "cell_type": "code",
      "source": [
        "# Define a function to fit neural networks and calculate SSD\n",
        "def fit_and_evaluate_nn():\n",
        "    models = []\n",
        "    ssds = []\n",
        "\n",
        "    for i in range(1, 51):\n",
        "        y_ideal = ideal_df[f\"y{i}\"].values.ravel()\n",
        "        model = Sequential()\n",
        "        model.add(Dense(64, input_dim=1, activation='relu'))\n",
        "        model.add(Dense(32, activation='relu'))\n",
        "        model.add(Dense(1))\n",
        "        model.compile(optimizer='adam', loss='mean_squared_error')\n",
        "        model.fit(X_train, y_ideal, epochs=100, verbose=0)\n",
        "        y_pred = model.predict(X_train).flatten()\n",
        "        ssd = np.sum((y_pred - y_ideal)**2)  # Use y_ideal instead of y_train for SSD calculation\n",
        "        models.append(model)\n",
        "        ssds.append(ssd)\n",
        "        print(f\"Neural Network Model {i} fitted with SSD: {ssd}\")\n",
        "\n",
        "    return models, ssds"
      ],
      "metadata": {
        "id": "C0gsxWO-hxd6"
      },
      "execution_count": 5,
      "outputs": []
    },
    {
      "cell_type": "code",
      "source": [
        "# Fit and evaluate models\n",
        "#Linear Regression\n",
        "linear_models, linear_ssds = fit_and_evaluate_model(LinearRegression(), \"Linear Regression\")\n"
      ],
      "metadata": {
        "colab": {
          "base_uri": "https://localhost:8080/"
        },
        "id": "p-QoaJh_hxmc",
        "outputId": "abd37db3-d28a-42d6-f122-50b52647f879"
      },
      "execution_count": 6,
      "outputs": [
        {
          "output_type": "stream",
          "name": "stdout",
          "text": [
            "Linear Regression Model 1 fitted with SSD: 195.89127153983014\n",
            "Linear Regression Model 2 fitted with SSD: 202.88007442165565\n",
            "Linear Regression Model 3 fitted with SSD: 195.89127977117153\n",
            "Linear Regression Model 4 fitted with SSD: 202.88007658771272\n",
            "Linear Regression Model 5 fitted with SSD: 195.89127977117153\n",
            "Linear Regression Model 6 fitted with SSD: 195.89127153983014\n",
            "Linear Regression Model 7 fitted with SSD: 207.93388321864552\n",
            "Linear Regression Model 8 fitted with SSD: 205.57669193576\n",
            "Linear Regression Model 9 fitted with SSD: 811.520294250026\n",
            "Linear Regression Model 10 fitted with SSD: 25195.488998086155\n",
            "Linear Regression Model 11 fitted with SSD: 1.770475427438109e-26\n",
            "Linear Regression Model 12 fitted with SSD: 9.91680468256775e-25\n",
            "Linear Regression Model 13 fitted with SSD: 8.068384569632555e-25\n",
            "Linear Regression Model 14 fitted with SSD: 1.770475427438109e-26\n",
            "Linear Regression Model 15 fitted with SSD: 5.729700123165455e-26\n",
            "Linear Regression Model 16 fitted with SSD: 5688711.112\n",
            "Linear Regression Model 17 fitted with SSD: 5688711.112\n",
            "Linear Regression Model 18 fitted with SSD: 22754844.448\n",
            "Linear Regression Model 19 fitted with SSD: 5688711.112\n",
            "Linear Regression Model 20 fitted with SSD: 5688711.112\n",
            "Linear Regression Model 21 fitted with SSD: 585219654.262872\n",
            "Linear Regression Model 22 fitted with SSD: 2057112856.2886992\n",
            "Linear Regression Model 23 fitted with SSD: 585219654.262872\n",
            "Linear Regression Model 24 fitted with SSD: 2340878617.051488\n",
            "Linear Regression Model 25 fitted with SSD: 5266976936.839447\n",
            "Linear Regression Model 26 fitted with SSD: 779773574.2932721\n",
            "Linear Regression Model 27 fitted with SSD: 800252934.2964718\n",
            "Linear Regression Model 28 fitted with SSD: 585219654.262872\n",
            "Linear Regression Model 29 fitted with SSD: 589201752.0412719\n",
            "Linear Regression Model 30 fitted with SSD: 611387725.3780719\n",
            "Linear Regression Model 31 fitted with SSD: 13333.249995312464\n",
            "Linear Regression Model 32 fitted with SSD: 445.20060436887\n",
            "Linear Regression Model 33 fitted with SSD: 11875.586388820075\n",
            "Linear Regression Model 34 fitted with SSD: 245.90611670253278\n",
            "Linear Regression Model 35 fitted with SSD: 13333.249995312472\n",
            "Linear Regression Model 36 fitted with SSD: 333331.2498828117\n",
            "Linear Regression Model 37 fitted with SSD: 13333.249995312464\n",
            "Linear Regression Model 38 fitted with SSD: 399.47256288305846\n",
            "Linear Regression Model 39 fitted with SSD: 5688391.106745888\n",
            "Linear Regression Model 40 fitted with SSD: 5678605.035015991\n",
            "Linear Regression Model 41 fitted with SSD: 48.97279528408367\n",
            "Linear Regression Model 42 fitted with SSD: 50.72001331348142\n",
            "Linear Regression Model 43 fitted with SSD: 1314.0433212881549\n",
            "Linear Regression Model 44 fitted with SSD: 6.14515130844061e-06\n",
            "Linear Regression Model 45 fitted with SSD: 1314.043292083566\n",
            "Linear Regression Model 46 fitted with SSD: 1314.0432655984382\n",
            "Linear Regression Model 47 fitted with SSD: 1314.0432655984382\n",
            "Linear Regression Model 48 fitted with SSD: 12.631251453509453\n",
            "Linear Regression Model 49 fitted with SSD: 195.9312248590957\n",
            "Linear Regression Model 50 fitted with SSD: 157.35927898400473\n"
          ]
        }
      ]
    },
    {
      "cell_type": "code",
      "source": [
        "#Random Forest Regression\n",
        "rf_models, rf_ssds = fit_and_evaluate_model(RandomForestRegressor(n_estimators=100, random_state=0), \"Random Forest\")\n"
      ],
      "metadata": {
        "colab": {
          "base_uri": "https://localhost:8080/"
        },
        "id": "67oRAy8ciKtR",
        "outputId": "06f2509e-8a01-4177-92a9-de4205315d11"
      },
      "execution_count": 7,
      "outputs": [
        {
          "output_type": "stream",
          "name": "stdout",
          "text": [
            "Random Forest Model 1 fitted with SSD: 0.07863130045085402\n",
            "Random Forest Model 2 fitted with SSD: 0.07434903588049785\n",
            "Random Forest Model 3 fitted with SSD: 0.07863101703871414\n",
            "Random Forest Model 4 fitted with SSD: 0.07434903136820054\n",
            "Random Forest Model 5 fitted with SSD: 0.07863101703871414\n",
            "Random Forest Model 6 fitted with SSD: 0.07863130045085402\n",
            "Random Forest Model 7 fitted with SSD: 0.01799577703259833\n",
            "Random Forest Model 8 fitted with SSD: 56.03880737801869\n",
            "Random Forest Model 9 fitted with SSD: 0.29739613335081583\n",
            "Random Forest Model 10 fitted with SSD: 11.410277074898133\n",
            "Random Forest Model 11 fitted with SSD: 0.15062999999998108\n",
            "Random Forest Model 12 fitted with SSD: 1.3556700000005806\n",
            "Random Forest Model 13 fitted with SSD: 0.6025199999999493\n",
            "Random Forest Model 14 fitted with SSD: 0.15062999999998108\n",
            "Random Forest Model 15 fitted with SSD: 0.03765749999999188\n",
            "Random Forest Model 16 fitted with SSD: 86.23503289999897\n",
            "Random Forest Model 17 fitted with SSD: 86.23503289999897\n",
            "Random Forest Model 18 fitted with SSD: 344.9401315999959\n",
            "Random Forest Model 19 fitted with SSD: 86.23503290000005\n",
            "Random Forest Model 20 fitted with SSD: 91.26545689999666\n",
            "Random Forest Model 21 fitted with SSD: 49510.52471098678\n",
            "Random Forest Model 22 fitted with SSD: 49510.52471163998\n",
            "Random Forest Model 23 fitted with SSD: 49510.52471098678\n",
            "Random Forest Model 24 fitted with SSD: 198042.0988439471\n",
            "Random Forest Model 25 fitted with SSD: 445594.45538514183\n",
            "Random Forest Model 26 fitted with SSD: 54301.5755314197\n",
            "Random Forest Model 27 fitted with SSD: 54075.89843247771\n",
            "Random Forest Model 28 fitted with SSD: 49640.013704869525\n",
            "Random Forest Model 29 fitted with SSD: 49616.350680798125\n",
            "Random Forest Model 30 fitted with SSD: 49816.28296876341\n",
            "Random Forest Model 31 fitted with SSD: 0.15197799999997916\n",
            "Random Forest Model 32 fitted with SSD: 0.031134602770468145\n",
            "Random Forest Model 33 fitted with SSD: 0.12777482723430592\n",
            "Random Forest Model 34 fitted with SSD: 0.1570452712562483\n",
            "Random Forest Model 35 fitted with SSD: 0.15197800000002437\n",
            "Random Forest Model 36 fitted with SSD: 3.799449999999718\n",
            "Random Forest Model 37 fitted with SSD: 0.15197799999997916\n",
            "Random Forest Model 38 fitted with SSD: 0.15532743854816483\n",
            "Random Forest Model 39 fitted with SSD: 86.52665010581796\n",
            "Random Forest Model 40 fitted with SSD: 147.65952116311064\n",
            "Random Forest Model 41 fitted with SSD: 0.6367743226482996\n",
            "Random Forest Model 42 fitted with SSD: 0.6325302756905614\n",
            "Random Forest Model 43 fitted with SSD: 170.36183276184505\n",
            "Random Forest Model 44 fitted with SSD: 1.7365235725628852e-09\n",
            "Random Forest Model 45 fitted with SSD: 170.3618337914844\n",
            "Random Forest Model 46 fitted with SSD: 170.36182107492016\n",
            "Random Forest Model 47 fitted with SSD: 170.36182107492016\n",
            "Random Forest Model 48 fitted with SSD: 0.01879329118780188\n",
            "Random Forest Model 49 fitted with SSD: 0.07996765653026314\n",
            "Random Forest Model 50 fitted with SSD: 0.05723522346789856\n"
          ]
        }
      ]
    },
    {
      "cell_type": "code",
      "source": [
        "#Support Vector Regression\n",
        "svr_models, svr_ssds = fit_and_evaluate_model(SVR(kernel='rbf', C=100, gamma=0.1, epsilon=0.1), \"SVR\")\n"
      ],
      "metadata": {
        "colab": {
          "base_uri": "https://localhost:8080/"
        },
        "id": "d6BMDG3JhxpH",
        "outputId": "7c3f3efa-e2a9-44cc-9e9b-efa0a382c6e4"
      },
      "execution_count": 8,
      "outputs": [
        {
          "output_type": "stream",
          "name": "stdout",
          "text": [
            "SVR Model 1 fitted with SSD: 2.0307636975962433\n",
            "SVR Model 2 fitted with SSD: 2.0040030262303263\n",
            "SVR Model 3 fitted with SSD: 2.0330760323116537\n",
            "SVR Model 4 fitted with SSD: 2.000367339733538\n",
            "SVR Model 5 fitted with SSD: 2.030808464966585\n",
            "SVR Model 6 fitted with SSD: 2.032309022130132\n",
            "SVR Model 7 fitted with SSD: 2.4144106869449713\n",
            "SVR Model 8 fitted with SSD: 206.66118517020465\n",
            "SVR Model 9 fitted with SSD: 2.0066297560304496\n",
            "SVR Model 10 fitted with SSD: 2.1892249605938447\n",
            "SVR Model 11 fitted with SSD: 2.9171940115718336\n",
            "SVR Model 12 fitted with SSD: 3.3179941727833757\n",
            "SVR Model 13 fitted with SSD: 3.0415790321912866\n",
            "SVR Model 14 fitted with SSD: 2.9231139763940943\n",
            "SVR Model 15 fitted with SSD: 3.161798015336504\n",
            "SVR Model 16 fitted with SSD: 429.7785164521559\n",
            "SVR Model 17 fitted with SSD: 429.7595058804981\n",
            "SVR Model 18 fitted with SSD: 7319.572421304103\n",
            "SVR Model 19 fitted with SSD: 429.78869863243574\n",
            "SVR Model 20 fitted with SSD: 873.7617300579519\n",
            "SVR Model 21 fitted with SSD: 519732953.40787244\n",
            "SVR Model 22 fitted with SSD: 178683994.7567193\n",
            "SVR Model 23 fitted with SSD: 519735654.8904768\n",
            "SVR Model 24 fitted with SSD: 5273682457.3991\n",
            "SVR Model 25 fitted with SSD: 16629489466.359798\n",
            "SVR Model 26 fitted with SSD: 701402497.3034555\n",
            "SVR Model 27 fitted with SSD: 721532649.743574\n",
            "SVR Model 28 fitted with SSD: 524943205.9132395\n",
            "SVR Model 29 fitted with SSD: 521621442.12049115\n",
            "SVR Model 30 fitted with SSD: 536338789.9128264\n",
            "SVR Model 31 fitted with SSD: 2.1202141223707858\n",
            "SVR Model 32 fitted with SSD: 2.406578703126407\n",
            "SVR Model 33 fitted with SSD: 2.8932394365896865\n",
            "SVR Model 34 fitted with SSD: 7.923406851784559\n",
            "SVR Model 35 fitted with SSD: 2.111635348004816\n",
            "SVR Model 36 fitted with SSD: 19.12137544270141\n",
            "SVR Model 37 fitted with SSD: 2.1159193805560745\n",
            "SVR Model 38 fitted with SSD: 2.0033200036612633\n",
            "SVR Model 39 fitted with SSD: 432.6019900225555\n",
            "SVR Model 40 fitted with SSD: 7362.970028049464\n",
            "SVR Model 41 fitted with SSD: 3.078000490791781\n",
            "SVR Model 42 fitted with SSD: 3.030532460007735\n",
            "SVR Model 43 fitted with SSD: 799.1977654955165\n",
            "SVR Model 44 fitted with SSD: 0.000595798678623245\n",
            "SVR Model 45 fitted with SSD: 799.18406483251\n",
            "SVR Model 46 fitted with SSD: 799.1883390302769\n",
            "SVR Model 47 fitted with SSD: 799.1574316346213\n",
            "SVR Model 48 fitted with SSD: 2.412736016345767\n",
            "SVR Model 49 fitted with SSD: 2.331782776730826\n",
            "SVR Model 50 fitted with SSD: 2.2702162607252543\n"
          ]
        }
      ]
    },
    {
      "cell_type": "code",
      "source": [
        "#Gradient Boost Regression\n",
        "gbr_models, gbr_ssds = fit_and_evaluate_model(GradientBoostingRegressor(n_estimators=100, random_state=0), \"Gradient Boosting\")\n"
      ],
      "metadata": {
        "colab": {
          "base_uri": "https://localhost:8080/"
        },
        "id": "uU6od_uTiQfV",
        "outputId": "8ce32053-1312-4598-bbfb-3668c5256bab"
      },
      "execution_count": 9,
      "outputs": [
        {
          "output_type": "stream",
          "name": "stdout",
          "text": [
            "Gradient Boosting Model 1 fitted with SSD: 3.283063392602343\n",
            "Gradient Boosting Model 2 fitted with SSD: 3.601209570442623\n",
            "Gradient Boosting Model 3 fitted with SSD: 3.2830636864201503\n",
            "Gradient Boosting Model 4 fitted with SSD: 3.551505235348199\n",
            "Gradient Boosting Model 5 fitted with SSD: 3.2830636864201503\n",
            "Gradient Boosting Model 6 fitted with SSD: 3.283063392602343\n",
            "Gradient Boosting Model 7 fitted with SSD: 0.3260312012395211\n",
            "Gradient Boosting Model 8 fitted with SSD: 158.18598198594418\n",
            "Gradient Boosting Model 9 fitted with SSD: 14.20601912691463\n",
            "Gradient Boosting Model 10 fitted with SSD: 226.8937997129728\n",
            "Gradient Boosting Model 11 fitted with SSD: 2.24294725565818\n",
            "Gradient Boosting Model 12 fitted with SSD: 20.18652530092435\n",
            "Gradient Boosting Model 13 fitted with SSD: 8.97178902263321\n",
            "Gradient Boosting Model 14 fitted with SSD: 2.24294725565818\n",
            "Gradient Boosting Model 15 fitted with SSD: 0.5607368139145619\n",
            "Gradient Boosting Model 16 fitted with SSD: 831.8906447746617\n",
            "Gradient Boosting Model 17 fitted with SSD: 831.8906447746617\n",
            "Gradient Boosting Model 18 fitted with SSD: 3327.562579098647\n",
            "Gradient Boosting Model 19 fitted with SSD: 831.8906447746617\n",
            "Gradient Boosting Model 20 fitted with SSD: 676.109277722888\n",
            "Gradient Boosting Model 21 fitted with SSD: 216341.37532507844\n",
            "Gradient Boosting Model 22 fitted with SSD: 257927.12012411692\n",
            "Gradient Boosting Model 23 fitted with SSD: 216341.37532507844\n",
            "Gradient Boosting Model 24 fitted with SSD: 865365.5013003137\n",
            "Gradient Boosting Model 25 fitted with SSD: 1947072.5146351587\n",
            "Gradient Boosting Model 26 fitted with SSD: 218730.23547163268\n",
            "Gradient Boosting Model 27 fitted with SSD: 218689.0046196559\n",
            "Gradient Boosting Model 28 fitted with SSD: 227486.22305467408\n",
            "Gradient Boosting Model 29 fitted with SSD: 212450.57482026558\n",
            "Gradient Boosting Model 30 fitted with SSD: 212207.80071592762\n",
            "Gradient Boosting Model 31 fitted with SSD: 2.6079928386381797\n",
            "Gradient Boosting Model 32 fitted with SSD: 0.10714626886781582\n",
            "Gradient Boosting Model 33 fitted with SSD: 1.8996484203204347\n",
            "Gradient Boosting Model 34 fitted with SSD: 4.441094142095119\n",
            "Gradient Boosting Model 35 fitted with SSD: 2.6079928386382374\n",
            "Gradient Boosting Model 36 fitted with SSD: 61.954350345853385\n",
            "Gradient Boosting Model 37 fitted with SSD: 2.6079928386381797\n",
            "Gradient Boosting Model 38 fitted with SSD: 7.406569846486187\n",
            "Gradient Boosting Model 39 fitted with SSD: 846.4154561379924\n",
            "Gradient Boosting Model 40 fitted with SSD: 810.4285339761833\n",
            "Gradient Boosting Model 41 fitted with SSD: 8.939831574006991\n",
            "Gradient Boosting Model 42 fitted with SSD: 8.683782696132498\n",
            "Gradient Boosting Model 43 fitted with SSD: 0.6034498754456479\n",
            "Gradient Boosting Model 44 fitted with SSD: 2.427999082313361e-08\n",
            "Gradient Boosting Model 45 fitted with SSD: 0.6034499023032324\n",
            "Gradient Boosting Model 46 fitted with SSD: 0.603449779421303\n",
            "Gradient Boosting Model 47 fitted with SSD: 0.603449779421303\n",
            "Gradient Boosting Model 48 fitted with SSD: 1.6158742664754209\n",
            "Gradient Boosting Model 49 fitted with SSD: 3.588202706505637\n",
            "Gradient Boosting Model 50 fitted with SSD: 2.4484138775807156\n"
          ]
        }
      ]
    },
    {
      "cell_type": "code",
      "source": [
        "#k-Nearest Neighbours\n",
        "knn_models, knn_ssds = fit_and_evaluate_model(KNeighborsRegressor(n_neighbors=5), \"KNN\")\n"
      ],
      "metadata": {
        "colab": {
          "base_uri": "https://localhost:8080/"
        },
        "id": "fVngQYYAiR3A",
        "outputId": "83b4b134-36a6-4b8a-8df5-0e5fd7be5b97"
      },
      "execution_count": 10,
      "outputs": [
        {
          "output_type": "stream",
          "name": "stdout",
          "text": [
            "KNN Model 1 fitted with SSD: 0.05471714495987262\n",
            "KNN Model 2 fitted with SSD: 0.08377948043606641\n",
            "KNN Model 3 fitted with SSD: 0.054716936706780406\n",
            "KNN Model 4 fitted with SSD: 0.08377949496490428\n",
            "KNN Model 5 fitted with SSD: 0.054716936706780406\n",
            "KNN Model 6 fitted with SSD: 0.05471714495987262\n",
            "KNN Model 7 fitted with SSD: 0.00632224987447946\n",
            "KNN Model 8 fitted with SSD: 168.6164733167912\n",
            "KNN Model 9 fitted with SSD: 0.33511797715188085\n",
            "KNN Model 10 fitted with SSD: 18.241767388924345\n",
            "KNN Model 11 fitted with SSD: 0.09999999999999928\n",
            "KNN Model 12 fitted with SSD: 0.9000000000000044\n",
            "KNN Model 13 fitted with SSD: 0.39999999999999714\n",
            "KNN Model 14 fitted with SSD: 0.09999999999999928\n",
            "KNN Model 15 fitted with SSD: 0.025\n",
            "KNN Model 16 fitted with SSD: 156.65939999999955\n",
            "KNN Model 17 fitted with SSD: 156.65939999999955\n",
            "KNN Model 18 fitted with SSD: 626.6375999999982\n",
            "KNN Model 19 fitted with SSD: 156.65939999999955\n",
            "KNN Model 20 fitted with SSD: 160.13939999999835\n",
            "KNN Model 21 fitted with SSD: 137968.96704999992\n",
            "KNN Model 22 fitted with SSD: 137968.96707287992\n",
            "KNN Model 23 fitted with SSD: 137968.96704999992\n",
            "KNN Model 24 fitted with SSD: 551875.8681999997\n",
            "KNN Model 25 fitted with SSD: 1241720.7005951991\n",
            "KNN Model 26 fitted with SSD: 146015.90785000077\n",
            "KNN Model 27 fitted with SSD: 146864.466250001\n",
            "KNN Model 28 fitted with SSD: 138203.82384999972\n",
            "KNN Model 29 fitted with SSD: 138055.1532500011\n",
            "KNN Model 30 fitted with SSD: 138736.55104999884\n",
            "KNN Model 31 fitted with SSD: 0.11759999999995382\n",
            "KNN Model 32 fitted with SSD: 0.10269767359202812\n",
            "KNN Model 33 fitted with SSD: 0.09926351155624108\n",
            "KNN Model 34 fitted with SSD: 0.20824184620658753\n",
            "KNN Model 35 fitted with SSD: 0.1176000000000006\n",
            "KNN Model 36 fitted with SSD: 2.939999999998863\n",
            "KNN Model 37 fitted with SSD: 0.11759999999995382\n",
            "KNN Model 38 fitted with SSD: 0.14141258095447842\n",
            "KNN Model 39 fitted with SSD: 157.01846932135226\n",
            "KNN Model 40 fitted with SSD: 203.5728517480682\n",
            "KNN Model 41 fitted with SSD: 0.5323952670794854\n",
            "KNN Model 42 fitted with SSD: 0.4150024059212418\n",
            "KNN Model 43 fitted with SSD: 571.2658748629246\n",
            "KNN Model 44 fitted with SSD: 1.4470965911800575e-09\n",
            "KNN Model 45 fitted with SSD: 571.2658756654731\n",
            "KNN Model 46 fitted with SSD: 571.2658391630201\n",
            "KNN Model 47 fitted with SSD: 571.2658391630201\n",
            "KNN Model 48 fitted with SSD: 0.021809637919414225\n",
            "KNN Model 49 fitted with SSD: 0.07200409914344492\n",
            "KNN Model 50 fitted with SSD: 0.06175006347237658\n"
          ]
        }
      ]
    },
    {
      "cell_type": "code",
      "source": [
        "#Neural Networks\n",
        "nn_models, nn_ssds = fit_and_evaluate_nn()"
      ],
      "metadata": {
        "colab": {
          "base_uri": "https://localhost:8080/"
        },
        "id": "lBLfyDwOiR8S",
        "outputId": "467bf8ba-d7fb-4b70-f2b8-2571ea9b52f7"
      },
      "execution_count": 11,
      "outputs": [
        {
          "output_type": "stream",
          "name": "stdout",
          "text": [
            "13/13 [==============================] - 0s 2ms/step\n",
            "Neural Network Model 1 fitted with SSD: 161.4185864690827\n",
            "13/13 [==============================] - 0s 2ms/step\n",
            "Neural Network Model 2 fitted with SSD: 178.04635799278682\n",
            "13/13 [==============================] - 0s 2ms/step\n",
            "Neural Network Model 3 fitted with SSD: 203.601575228149\n",
            "13/13 [==============================] - 0s 2ms/step\n",
            "Neural Network Model 4 fitted with SSD: 218.90829030661777\n",
            "13/13 [==============================] - 0s 2ms/step\n",
            "Neural Network Model 5 fitted with SSD: 187.59461507818963\n",
            "13/13 [==============================] - 0s 2ms/step\n",
            "Neural Network Model 6 fitted with SSD: 164.9922560882813\n",
            "13/13 [==============================] - 0s 2ms/step\n",
            "Neural Network Model 7 fitted with SSD: 171.21159727006528\n",
            "13/13 [==============================] - 0s 2ms/step\n",
            "Neural Network Model 8 fitted with SSD: 201.12589868173018\n",
            "13/13 [==============================] - 0s 2ms/step\n",
            "Neural Network Model 9 fitted with SSD: 688.5649301671274\n",
            "13/13 [==============================] - 0s 2ms/step\n",
            "Neural Network Model 10 fitted with SSD: 25038.587477251727\n",
            "13/13 [==============================] - 0s 2ms/step\n",
            "Neural Network Model 11 fitted with SSD: 0.0025206153193648253\n",
            "13/13 [==============================] - 0s 2ms/step\n",
            "Neural Network Model 12 fitted with SSD: 6.703517513899894\n",
            "13/13 [==============================] - 0s 2ms/step\n",
            "Neural Network Model 13 fitted with SSD: 1.697067226627336\n",
            "13/13 [==============================] - 0s 2ms/step\n",
            "Neural Network Model 14 fitted with SSD: 0.04626920412035665\n",
            "13/13 [==============================] - 0s 2ms/step\n",
            "Neural Network Model 15 fitted with SSD: 0.020429937176242547\n",
            "13/13 [==============================] - 0s 2ms/step\n",
            "Neural Network Model 16 fitted with SSD: 490347.5053517997\n",
            "13/13 [==============================] - 0s 2ms/step\n",
            "Neural Network Model 17 fitted with SSD: 387470.554429928\n",
            "13/13 [==============================] - 0s 2ms/step\n",
            "Neural Network Model 18 fitted with SSD: 2353052.726399627\n",
            "13/13 [==============================] - 0s 3ms/step\n",
            "Neural Network Model 19 fitted with SSD: 483007.8974564037\n",
            "13/13 [==============================] - 0s 2ms/step\n",
            "Neural Network Model 20 fitted with SSD: 387002.996240514\n",
            "13/13 [==============================] - 0s 2ms/step\n",
            "Neural Network Model 21 fitted with SSD: 592475305.3340895\n",
            "13/13 [==============================] - 0s 2ms/step\n",
            "Neural Network Model 22 fitted with SSD: 593394444.3725086\n",
            "13/13 [==============================] - 0s 3ms/step\n",
            "Neural Network Model 23 fitted with SSD: 588031362.8689612\n",
            "13/13 [==============================] - 0s 2ms/step\n",
            "Neural Network Model 24 fitted with SSD: 2452360543.1844473\n",
            "13/13 [==============================] - 0s 2ms/step\n",
            "Neural Network Model 25 fitted with SSD: 5619638344.803141\n",
            "13/13 [==============================] - 0s 2ms/step\n",
            "Neural Network Model 26 fitted with SSD: 614238976.8963226\n",
            "13/13 [==============================] - 0s 2ms/step\n",
            "Neural Network Model 27 fitted with SSD: 634500064.4642057\n",
            "13/13 [==============================] - 0s 2ms/step\n",
            "Neural Network Model 28 fitted with SSD: 592908411.0472957\n",
            "13/13 [==============================] - 0s 2ms/step\n",
            "Neural Network Model 29 fitted with SSD: 587967056.6506929\n",
            "13/13 [==============================] - 0s 2ms/step\n",
            "Neural Network Model 30 fitted with SSD: 593431169.5255928\n",
            "13/13 [==============================] - 0s 2ms/step\n",
            "Neural Network Model 31 fitted with SSD: 0.005111674339009114\n",
            "13/13 [==============================] - 0s 2ms/step\n",
            "Neural Network Model 32 fitted with SSD: 0.27327985563049056\n",
            "13/13 [==============================] - 0s 2ms/step\n",
            "Neural Network Model 33 fitted with SSD: 2.160439187830433\n",
            "13/13 [==============================] - 0s 2ms/step\n",
            "Neural Network Model 34 fitted with SSD: 212.41830283213136\n",
            "13/13 [==============================] - 0s 3ms/step\n",
            "Neural Network Model 35 fitted with SSD: 2.286496977791378\n",
            "13/13 [==============================] - 0s 2ms/step\n",
            "Neural Network Model 36 fitted with SSD: 16.230654837930153\n",
            "13/13 [==============================] - 0s 3ms/step\n",
            "Neural Network Model 37 fitted with SSD: 0.004541329333978541\n",
            "13/13 [==============================] - 0s 2ms/step\n",
            "Neural Network Model 38 fitted with SSD: 327.11302316097516\n",
            "13/13 [==============================] - 0s 2ms/step\n",
            "Neural Network Model 39 fitted with SSD: 452800.6891356294\n",
            "13/13 [==============================] - 0s 3ms/step\n",
            "Neural Network Model 40 fitted with SSD: 265409.6438277501\n",
            "13/13 [==============================] - 0s 2ms/step\n",
            "Neural Network Model 41 fitted with SSD: 55.72114526764747\n",
            "13/13 [==============================] - 0s 2ms/step\n",
            "Neural Network Model 42 fitted with SSD: 51.32620044620745\n",
            "13/13 [==============================] - 0s 2ms/step\n",
            "Neural Network Model 43 fitted with SSD: 527.6121831391472\n",
            "13/13 [==============================] - 0s 2ms/step\n",
            "Neural Network Model 44 fitted with SSD: 1.046879239155843e-05\n",
            "13/13 [==============================] - 0s 2ms/step\n",
            "Neural Network Model 45 fitted with SSD: 799.0987109819183\n",
            "13/13 [==============================] - 0s 2ms/step\n",
            "Neural Network Model 46 fitted with SSD: 672.5596305708461\n",
            "13/13 [==============================] - 0s 2ms/step\n",
            "Neural Network Model 47 fitted with SSD: 692.212072590671\n",
            "13/13 [==============================] - 0s 4ms/step\n",
            "Neural Network Model 48 fitted with SSD: 11.835021122991982\n",
            "13/13 [==============================] - 0s 2ms/step\n",
            "Neural Network Model 49 fitted with SSD: 161.9549163246362\n",
            "13/13 [==============================] - 0s 2ms/step\n",
            "Neural Network Model 50 fitted with SSD: 132.74097091665254\n"
          ]
        }
      ]
    },
    {
      "cell_type": "code",
      "source": [
        "# Prepare data for the Excel file\n",
        "data = {\n",
        "    \"Ideal Function\": [f\"y{i}\" for i in range(1, 51)],\n",
        "    \"SSD of LR\": linear_ssds,\n",
        "    \"SSD of RF\": rf_ssds,\n",
        "    \"SSD of SVR\": svr_ssds,\n",
        "    \"SSD of GBR\": gbr_ssds,\n",
        "    \"SSD of kNN\": knn_ssds,\n",
        "    \"SSD of NN\": nn_ssds,\n",
        "}"
      ],
      "metadata": {
        "id": "WlFnBa7Fkcq3"
      },
      "execution_count": 12,
      "outputs": []
    },
    {
      "cell_type": "code",
      "source": [
        "# Create a DataFrame\n",
        "ssds_df = pd.DataFrame(data)"
      ],
      "metadata": {
        "id": "xTld9tkek9pH"
      },
      "execution_count": 13,
      "outputs": []
    },
    {
      "cell_type": "code",
      "source": [
        "# Save the DataFrame to an Excel file\n",
        "ssds_df.to_excel(\"ssds_values.xlsx\", index=False)\n",
        "\n",
        "print(\"SSD values saved to 'ssds_values.xlsx'\")"
      ],
      "metadata": {
        "colab": {
          "base_uri": "https://localhost:8080/"
        },
        "id": "6PMPC8NAlDUZ",
        "outputId": "012b5254-3dda-4a8b-873d-67e52caee948"
      },
      "execution_count": 14,
      "outputs": [
        {
          "output_type": "stream",
          "name": "stdout",
          "text": [
            "SSD values saved to 'ssds_values.xlsx'\n"
          ]
        }
      ]
    },
    {
      "cell_type": "code",
      "source": [
        "# Print the SSD values\n",
        "print(ssds_df)"
      ],
      "metadata": {
        "colab": {
          "base_uri": "https://localhost:8080/"
        },
        "id": "zMUTXxFglD3a",
        "outputId": "486d500e-579c-4a17-983b-f716d1e3dd90"
      },
      "execution_count": 15,
      "outputs": [
        {
          "output_type": "stream",
          "name": "stdout",
          "text": [
            "   Ideal Function     SSD of LR     SSD of RF    SSD of SVR    SSD of GBR  \\\n",
            "0              y1  1.958913e+02  7.863130e-02  2.030764e+00  3.283063e+00   \n",
            "1              y2  2.028801e+02  7.434904e-02  2.004003e+00  3.601210e+00   \n",
            "2              y3  1.958913e+02  7.863102e-02  2.033076e+00  3.283064e+00   \n",
            "3              y4  2.028801e+02  7.434903e-02  2.000367e+00  3.551505e+00   \n",
            "4              y5  1.958913e+02  7.863102e-02  2.030808e+00  3.283064e+00   \n",
            "5              y6  1.958913e+02  7.863130e-02  2.032309e+00  3.283063e+00   \n",
            "6              y7  2.079339e+02  1.799578e-02  2.414411e+00  3.260312e-01   \n",
            "7              y8  2.055767e+02  5.603881e+01  2.066612e+02  1.581860e+02   \n",
            "8              y9  8.115203e+02  2.973961e-01  2.006630e+00  1.420602e+01   \n",
            "9             y10  2.519549e+04  1.141028e+01  2.189225e+00  2.268938e+02   \n",
            "10            y11  1.770475e-26  1.506300e-01  2.917194e+00  2.242947e+00   \n",
            "11            y12  9.916805e-25  1.355670e+00  3.317994e+00  2.018653e+01   \n",
            "12            y13  8.068385e-25  6.025200e-01  3.041579e+00  8.971789e+00   \n",
            "13            y14  1.770475e-26  1.506300e-01  2.923114e+00  2.242947e+00   \n",
            "14            y15  5.729700e-26  3.765750e-02  3.161798e+00  5.607368e-01   \n",
            "15            y16  5.688711e+06  8.623503e+01  4.297785e+02  8.318906e+02   \n",
            "16            y17  5.688711e+06  8.623503e+01  4.297595e+02  8.318906e+02   \n",
            "17            y18  2.275484e+07  3.449401e+02  7.319572e+03  3.327563e+03   \n",
            "18            y19  5.688711e+06  8.623503e+01  4.297887e+02  8.318906e+02   \n",
            "19            y20  5.688711e+06  9.126546e+01  8.737617e+02  6.761093e+02   \n",
            "20            y21  5.852197e+08  4.951052e+04  5.197330e+08  2.163414e+05   \n",
            "21            y22  2.057113e+09  4.951052e+04  1.786840e+08  2.579271e+05   \n",
            "22            y23  5.852197e+08  4.951052e+04  5.197357e+08  2.163414e+05   \n",
            "23            y24  2.340879e+09  1.980421e+05  5.273682e+09  8.653655e+05   \n",
            "24            y25  5.266977e+09  4.455945e+05  1.662949e+10  1.947073e+06   \n",
            "25            y26  7.797736e+08  5.430158e+04  7.014025e+08  2.187302e+05   \n",
            "26            y27  8.002529e+08  5.407590e+04  7.215326e+08  2.186890e+05   \n",
            "27            y28  5.852197e+08  4.964001e+04  5.249432e+08  2.274862e+05   \n",
            "28            y29  5.892018e+08  4.961635e+04  5.216214e+08  2.124506e+05   \n",
            "29            y30  6.113877e+08  4.981628e+04  5.363388e+08  2.122078e+05   \n",
            "30            y31  1.333325e+04  1.519780e-01  2.120214e+00  2.607993e+00   \n",
            "31            y32  4.452006e+02  3.113460e-02  2.406579e+00  1.071463e-01   \n",
            "32            y33  1.187559e+04  1.277748e-01  2.893239e+00  1.899648e+00   \n",
            "33            y34  2.459061e+02  1.570453e-01  7.923407e+00  4.441094e+00   \n",
            "34            y35  1.333325e+04  1.519780e-01  2.111635e+00  2.607993e+00   \n",
            "35            y36  3.333312e+05  3.799450e+00  1.912138e+01  6.195435e+01   \n",
            "36            y37  1.333325e+04  1.519780e-01  2.115919e+00  2.607993e+00   \n",
            "37            y38  3.994726e+02  1.553274e-01  2.003320e+00  7.406570e+00   \n",
            "38            y39  5.688391e+06  8.652665e+01  4.326020e+02  8.464155e+02   \n",
            "39            y40  5.678605e+06  1.476595e+02  7.362970e+03  8.104285e+02   \n",
            "40            y41  4.897280e+01  6.367743e-01  3.078000e+00  8.939832e+00   \n",
            "41            y42  5.072001e+01  6.325303e-01  3.030532e+00  8.683783e+00   \n",
            "42            y43  1.314043e+03  1.703618e+02  7.991978e+02  6.034499e-01   \n",
            "43            y44  6.145151e-06  1.736524e-09  5.957987e-04  2.427999e-08   \n",
            "44            y45  1.314043e+03  1.703618e+02  7.991841e+02  6.034499e-01   \n",
            "45            y46  1.314043e+03  1.703618e+02  7.991883e+02  6.034498e-01   \n",
            "46            y47  1.314043e+03  1.703618e+02  7.991574e+02  6.034498e-01   \n",
            "47            y48  1.263125e+01  1.879329e-02  2.412736e+00  1.615874e+00   \n",
            "48            y49  1.959312e+02  7.996766e-02  2.331783e+00  3.588203e+00   \n",
            "49            y50  1.573593e+02  5.723522e-02  2.270216e+00  2.448414e+00   \n",
            "\n",
            "      SSD of kNN     SSD of NN  \n",
            "0   5.471714e-02  1.614186e+02  \n",
            "1   8.377948e-02  1.780464e+02  \n",
            "2   5.471694e-02  2.036016e+02  \n",
            "3   8.377949e-02  2.189083e+02  \n",
            "4   5.471694e-02  1.875946e+02  \n",
            "5   5.471714e-02  1.649923e+02  \n",
            "6   6.322250e-03  1.712116e+02  \n",
            "7   1.686165e+02  2.011259e+02  \n",
            "8   3.351180e-01  6.885649e+02  \n",
            "9   1.824177e+01  2.503859e+04  \n",
            "10  1.000000e-01  2.520615e-03  \n",
            "11  9.000000e-01  6.703518e+00  \n",
            "12  4.000000e-01  1.697067e+00  \n",
            "13  1.000000e-01  4.626920e-02  \n",
            "14  2.500000e-02  2.042994e-02  \n",
            "15  1.566594e+02  4.903475e+05  \n",
            "16  1.566594e+02  3.874706e+05  \n",
            "17  6.266376e+02  2.353053e+06  \n",
            "18  1.566594e+02  4.830079e+05  \n",
            "19  1.601394e+02  3.870030e+05  \n",
            "20  1.379690e+05  5.924753e+08  \n",
            "21  1.379690e+05  5.933944e+08  \n",
            "22  1.379690e+05  5.880314e+08  \n",
            "23  5.518759e+05  2.452361e+09  \n",
            "24  1.241721e+06  5.619638e+09  \n",
            "25  1.460159e+05  6.142390e+08  \n",
            "26  1.468645e+05  6.345001e+08  \n",
            "27  1.382038e+05  5.929084e+08  \n",
            "28  1.380552e+05  5.879671e+08  \n",
            "29  1.387366e+05  5.934312e+08  \n",
            "30  1.176000e-01  5.111674e-03  \n",
            "31  1.026977e-01  2.732799e-01  \n",
            "32  9.926351e-02  2.160439e+00  \n",
            "33  2.082418e-01  2.124183e+02  \n",
            "34  1.176000e-01  2.286497e+00  \n",
            "35  2.940000e+00  1.623065e+01  \n",
            "36  1.176000e-01  4.541329e-03  \n",
            "37  1.414126e-01  3.271130e+02  \n",
            "38  1.570185e+02  4.528007e+05  \n",
            "39  2.035729e+02  2.654096e+05  \n",
            "40  5.323953e-01  5.572115e+01  \n",
            "41  4.150024e-01  5.132620e+01  \n",
            "42  5.712659e+02  5.276122e+02  \n",
            "43  1.447097e-09  1.046879e-05  \n",
            "44  5.712659e+02  7.990987e+02  \n",
            "45  5.712658e+02  6.725596e+02  \n",
            "46  5.712658e+02  6.922121e+02  \n",
            "47  2.180964e-02  1.183502e+01  \n",
            "48  7.200410e-02  1.619549e+02  \n",
            "49  6.175006e-02  1.327410e+02  \n"
          ]
        }
      ]
    },
    {
      "cell_type": "code",
      "source": [
        "# Combine all SSDs and models\n",
        "all_ssds = linear_ssds + rf_ssds + svr_ssds + gbr_ssds + knn_ssds + nn_ssds\n",
        "all_models = linear_models + rf_models + svr_models + gbr_models + knn_models + nn_models\n"
      ],
      "metadata": {
        "id": "MA1ugMfakcDD"
      },
      "execution_count": 16,
      "outputs": []
    },
    {
      "cell_type": "code",
      "source": [
        "# Choose the four best models based on SSD\n",
        "chosen_indices = np.argsort(all_ssds)[:4]\n",
        "chosen_models = [all_models[i] for i in chosen_indices]\n",
        "print(f\"Chosen model indices: {chosen_indices}\")"
      ],
      "metadata": {
        "colab": {
          "base_uri": "https://localhost:8080/"
        },
        "id": "jRinA6NZkc2A",
        "outputId": "85b0d5e6-e9ec-4507-ed97-016c96efd05d"
      },
      "execution_count": 17,
      "outputs": [
        {
          "output_type": "stream",
          "name": "stdout",
          "text": [
            "Chosen model indices: [10 13 14 12]\n"
          ]
        }
      ]
    },
    {
      "cell_type": "code",
      "source": [
        "# Predict on test data and evaluate\n",
        "test_predictions = np.zeros((len(X_test), 4))\n",
        "mse_values = []\n",
        "for i, model in enumerate(chosen_models):\n",
        "    test_predictions[:, i] = model.predict(X_test).flatten()\n",
        "    mse = mean_squared_error(test_df[\"y\"], test_predictions[:, i])\n",
        "    mse_values.append(mse)\n",
        "    print(f\"Predictions from model {chosen_indices[i] + 1} completed with MSE: {mse}\")\n"
      ],
      "metadata": {
        "colab": {
          "base_uri": "https://localhost:8080/"
        },
        "id": "drYqDPVimqik",
        "outputId": "ce75d53a-875e-4ade-c1db-7da27cf6d11b"
      },
      "execution_count": 18,
      "outputs": [
        {
          "output_type": "stream",
          "name": "stdout",
          "text": [
            "Predictions from model 11 completed with MSE: 426.19644471177133\n",
            "Predictions from model 14 completed with MSE: 426.19644471177133\n",
            "Predictions from model 15 completed with MSE: 426.19644471177133\n",
            "Predictions from model 13 completed with MSE: 426.19644471177133\n"
          ]
        }
      ]
    },
    {
      "cell_type": "code",
      "source": [
        "# Visualize the results\n",
        "plt.figure(figsize=(10, 6))\n",
        "plt.scatter(X_test, test_df[\"y\"], label=\"Test Data\")\n",
        "for i in range(4):\n",
        "    plt.plot(X_test, test_predictions[:, i], label=f\"Ideal Function {chosen_indices[i] + 1}\")\n",
        "plt.xlabel(\"x\")\n",
        "plt.ylabel(\"y\")\n",
        "plt.title(\"Test Data and Predictions\")\n",
        "plt.legend()\n",
        "plt.grid(True)\n",
        "plt.savefig(\"test_predictions.png\")\n",
        "plt.show()\n",
        "print(\"Visualization completed and saved as 'test_predictions.png'\")"
      ],
      "metadata": {
        "colab": {
          "base_uri": "https://localhost:8080/",
          "height": 581
        },
        "id": "G6u57-hmmqsC",
        "outputId": "448a8e44-f208-4e70-87f8-e85c5d5ba7ca"
      },
      "execution_count": 19,
      "outputs": [
        {
          "output_type": "display_data",
          "data": {
            "text/plain": [
              "<Figure size 1000x600 with 1 Axes>"
            ],
            "image/png": "[encoded data removed]"
          },
          "metadata": {}
        },
        {
          "output_type": "stream",
          "name": "stdout",
          "text": [
            "Visualization completed and saved as 'test_predictions.png'\n"
          ]
        }
      ]
    }
  ]
}