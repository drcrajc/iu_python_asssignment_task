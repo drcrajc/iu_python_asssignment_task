{
  "nbformat": 4,
  "nbformat_minor": 0,
  "metadata": {
    "colab": {
      "provenance": [],
      "mount_file_id": "1EjChOGrQS4OA31iGFfQxzc80ajX4eQBJ",
      "authorship_tag": "ABX9TyM04nrWUxRDVYCtZM3kYQVs",
      "include_colab_link": true
    },
    "kernelspec": {
      "name": "python3",
      "display_name": "Python 3"
    },
    "language_info": {
      "name": "python"
    }
  },
  "cells": [
    {
      "cell_type": "markdown",
      "metadata": {
        "id": "view-in-github",
        "colab_type": "text"
      },
      "source": [
        "<a href=\"https://colab.research.google.com/github/drcrajc/iu_python_asssignment_task/blob/main/iubh_assignment_codes_model1_to_6.ipynb\" target=\"_parent\"><img src=\"https://colab.research.google.com/assets/colab-badge.svg\" alt=\"Open In Colab\"/></a>"
      ]
    },
    {
      "cell_type": "code",
      "execution_count": null,
      "metadata": {
        "colab": {
          "base_uri": "https://localhost:8080/"
        },
        "id": "XwR32_v5ZLJh",
        "outputId": "91e2c6b3-3ebd-4882-eee4-fad1527d85c9"
      },
      "outputs": [
        {
          "output_type": "stream",
          "name": "stdout",
          "text": [
            "assign_code1.py  ideal.csv  newcode1.py  test.csv  test_predictions.png  train.csv\n"
          ]
        }
      ],
      "source": [
        "!ls /content/drive/MyDrive/iubh_python_assign/dataset"
      ]
    },
    {
      "cell_type": "code",
      "source": [
        "!ls /content/drive/MyDrive/iubh_python_assign/dataset/ideal.csv"
      ],
      "metadata": {
        "colab": {
          "base_uri": "https://localhost:8080/"
        },
        "id": "b6mpf6_OaNnD",
        "outputId": "7f85a597-728e-4d12-ead8-41e1eb59f8ac"
      },
      "execution_count": null,
      "outputs": [
        {
          "output_type": "stream",
          "name": "stdout",
          "text": [
            "/content/drive/MyDrive/iubh_python_assign/dataset/ideal.csv\n"
          ]
        }
      ]
    },
    {
      "cell_type": "code",
      "source": [
        "!ls /content/drive/MyDrive/iubh_python_assign/dataset/train.csv"
      ],
      "metadata": {
        "colab": {
          "base_uri": "https://localhost:8080/"
        },
        "id": "hCrlo_g1aRRr",
        "outputId": "b16a7021-3770-4240-d30e-3a8ecc25bb3c"
      },
      "execution_count": null,
      "outputs": [
        {
          "output_type": "stream",
          "name": "stdout",
          "text": [
            "/content/drive/MyDrive/iubh_python_assign/dataset/train.csv\n"
          ]
        }
      ]
    },
    {
      "cell_type": "code",
      "source": [
        "!ls /content/drive/MyDrive/iubh_python_assign/dataset/test.csv"
      ],
      "metadata": {
        "colab": {
          "base_uri": "https://localhost:8080/"
        },
        "id": "lTtgOGvpaU3X",
        "outputId": "c6b84c1d-325a-4fac-9c50-fa5f11068c3a"
      },
      "execution_count": null,
      "outputs": [
        {
          "output_type": "stream",
          "name": "stdout",
          "text": [
            "/content/drive/MyDrive/iubh_python_assign/dataset/test.csv\n"
          ]
        }
      ]
    },
    {
      "cell_type": "code",
      "source": [
        "import pandas as pd\n",
        "import numpy as np\n",
        "from sklearn.linear_model import LinearRegression\n",
        "import matplotlib.pyplot as plt\n",
        "\n",
        "# Read datasets\n",
        "ideal_df = pd.read_csv(\"/content/drive/MyDrive/iubh_python_assign/dataset/ideal.csv\")\n",
        "test_df = pd.read_csv(\"/content/drive/MyDrive/iubh_python_assign/dataset/test.csv\")\n",
        "train_df = pd.read_csv(\"/content/drive/MyDrive/iubh_python_assign/dataset/train.csv\")\n",
        "print(\"Datasets loaded successfully\")"
      ],
      "metadata": {
        "colab": {
          "base_uri": "https://localhost:8080/"
        },
        "id": "Ppf6Nwp6aabh",
        "outputId": "40e7ec8d-f66a-42da-c413-a4644c11a05f"
      },
      "execution_count": null,
      "outputs": [
        {
          "output_type": "stream",
          "name": "stdout",
          "text": [
            "Datasets loaded successfully\n"
          ]
        }
      ]
    },
    {
      "cell_type": "code",
      "source": [
        "# Separate x and y values for train and test datasets\n",
        "X_train = train_df[\"x\"].values.reshape(-1, 1)\n",
        "y_train = train_df.drop(columns=[\"x\"]).values\n",
        "X_test = test_df[\"x\"].values.reshape(-1, 1)\n",
        "print(\"Training and test data prepared\")"
      ],
      "metadata": {
        "colab": {
          "base_uri": "https://localhost:8080/"
        },
        "id": "54v56BIcankC",
        "outputId": "6ab6c45f-9ca6-4861-f4be-8fc0d06703a8"
      },
      "execution_count": null,
      "outputs": [
        {
          "output_type": "stream",
          "name": "stdout",
          "text": [
            "Training and test data prepared\n"
          ]
        }
      ]
    },
    {
      "cell_type": "code",
      "source": [
        "# Fit regression models for all 50 ideal functions\n",
        "models = []\n",
        "for i in range(1, 51):\n",
        "    model = LinearRegression()\n",
        "    model.fit(X_train, ideal_df[f\"y{i}\"].values.reshape(-1, 1))\n",
        "    models.append(model)\n",
        "print(f\"Model {i} fitted\")"
      ],
      "metadata": {
        "colab": {
          "base_uri": "https://localhost:8080/"
        },
        "id": "WP9kykPYaq2j",
        "outputId": "98b90dc6-d494-438a-8986-c3ef3fa7a7c3"
      },
      "execution_count": null,
      "outputs": [
        {
          "output_type": "stream",
          "name": "stdout",
          "text": [
            "Model 50 fitted\n"
          ]
        }
      ]
    },
    {
      "cell_type": "code",
      "source": [
        "# Calculate sum of squared deviations for each ideal function on training data\n",
        "ssd = []\n",
        "for model in models:\n",
        "    y_pred = model.predict(X_train)\n",
        "    ssd.append(np.sum((y_pred - y_train)**2))\n",
        "print(f\"SSD for model: {np.sum((y_pred - y_train)**2)}\")"
      ],
      "metadata": {
        "colab": {
          "base_uri": "https://localhost:8080/"
        },
        "id": "2woreJ_hauV7",
        "outputId": "8d2b0106-ef17-4a68-8b0e-2d95acbd8d59"
      },
      "execution_count": null,
      "outputs": [
        {
          "output_type": "stream",
          "name": "stdout",
          "text": [
            "SSD for model: 479491.74084768695\n"
          ]
        }
      ]
    },
    {
      "cell_type": "code",
      "source": [
        "# Choose the four ideal functions with the lowest sum of squared deviations\n",
        "chosen_indices = np.argsort(ssd)[:4]\n",
        "chosen_models = [models[i] for i in chosen_indices]\n",
        "print(f\"Chosen model indices: {chosen_indices}\")"
      ],
      "metadata": {
        "colab": {
          "base_uri": "https://localhost:8080/"
        },
        "id": "2u0FI97KaxFU",
        "outputId": "dc6b7ceb-a8c6-464f-cd05-abe280b338b7"
      },
      "execution_count": null,
      "outputs": [
        {
          "output_type": "stream",
          "name": "stdout",
          "text": [
            "Chosen model indices: [ 5 47  7  6]\n"
          ]
        }
      ]
    },
    {
      "cell_type": "code",
      "source": [
        "# Predict y-values for test data using chosen ideal functions\n",
        "test_predictions = np.zeros((len(X_test), 4))\n",
        "for i, model in enumerate(chosen_models):\n",
        "    test_predictions[:, i] = model.predict(X_test).flatten()\n",
        "print(f\"Predictions from model {chosen_indices[i] + 1} completed\")"
      ],
      "metadata": {
        "colab": {
          "base_uri": "https://localhost:8080/"
        },
        "id": "of69kgVva1zi",
        "outputId": "a85569f8-0484-40c5-e92a-e6fed2b303e4"
      },
      "execution_count": null,
      "outputs": [
        {
          "output_type": "stream",
          "name": "stdout",
          "text": [
            "Predictions from model 7 completed\n"
          ]
        }
      ]
    },
    {
      "cell_type": "code",
      "source": [
        "# Visualize the data and results\n",
        "plt.figure(figsize=(10, 6))\n",
        "plt.scatter(X_test, test_df[\"y\"], label=\"Test Data\")\n",
        "for i, model in enumerate(chosen_models):\n",
        "    plt.plot(X_test, test_predictions[:, i], label=f\"Ideal Function {chosen_indices[i] + 1}\")\n",
        "plt.xlabel(\"x\")\n",
        "plt.ylabel(\"y\")\n",
        "plt.title(\"Test Data and Predictions\")\n",
        "plt.legend()\n",
        "plt.grid(True)\n",
        "\n",
        "# Save the plot as a PNG file\n",
        "plt.savefig(\"test_predictions.png\")\n",
        "\n",
        "# Show the plot\n",
        "plt.show()\n",
        "print(\"Visualization completed and saved as 'test_predictions.png'\")"
      ],
      "metadata": {
        "colab": {
          "base_uri": "https://localhost:8080/",
          "height": 581
        },
        "id": "92iwruDZa4bD",
        "outputId": "f2329e28-699f-4cd4-cf70-d2585f6a1119"
      },
      "execution_count": null,
      "outputs": [
        {
          "output_type": "display_data",
          "data": {
            "text/plain": [
              "<Figure size 1000x600 with 1 Axes>"
            ],
            "image/png": "[encoded data removed]"
          },
          "metadata": {}
        },
        {
          "output_type": "stream",
          "name": "stdout",
          "text": [
            "Visualization completed and saved as 'test_predictions.png'\n"
          ]
        }
      ]
    },
    {
      "cell_type": "code",
      "source": [
        "from sklearn.ensemble import RandomForestRegressor\n",
        "\n",
        "# Fit Random Forest models instead of Linear Regression\n",
        "models = []\n",
        "for i in range(1, 51):\n",
        "    model = RandomForestRegressor(n_estimators=100, random_state=0)\n",
        "    model.fit(X_train, ideal_df[f\"y{i}\"].values.reshape(-1, 1).ravel())\n",
        "    models.append(model)\n",
        "    print(f\"Random Forest Model {i} fitted\")\n"
      ],
      "metadata": {
        "colab": {
          "base_uri": "https://localhost:8080/"
        },
        "id": "AGphBhIba6ei",
        "outputId": "6d092029-5566-40be-d998-e63d3592902f"
      },
      "execution_count": null,
      "outputs": [
        {
          "output_type": "stream",
          "name": "stdout",
          "text": [
            "Random Forest Model 1 fitted\n",
            "Random Forest Model 2 fitted\n",
            "Random Forest Model 3 fitted\n",
            "Random Forest Model 4 fitted\n",
            "Random Forest Model 5 fitted\n",
            "Random Forest Model 6 fitted\n",
            "Random Forest Model 7 fitted\n",
            "Random Forest Model 8 fitted\n",
            "Random Forest Model 9 fitted\n",
            "Random Forest Model 10 fitted\n",
            "Random Forest Model 11 fitted\n",
            "Random Forest Model 12 fitted\n",
            "Random Forest Model 13 fitted\n",
            "Random Forest Model 14 fitted\n",
            "Random Forest Model 15 fitted\n",
            "Random Forest Model 16 fitted\n",
            "Random Forest Model 17 fitted\n",
            "Random Forest Model 18 fitted\n",
            "Random Forest Model 19 fitted\n",
            "Random Forest Model 20 fitted\n",
            "Random Forest Model 21 fitted\n",
            "Random Forest Model 22 fitted\n",
            "Random Forest Model 23 fitted\n",
            "Random Forest Model 24 fitted\n",
            "Random Forest Model 25 fitted\n",
            "Random Forest Model 26 fitted\n",
            "Random Forest Model 27 fitted\n",
            "Random Forest Model 28 fitted\n",
            "Random Forest Model 29 fitted\n",
            "Random Forest Model 30 fitted\n",
            "Random Forest Model 31 fitted\n",
            "Random Forest Model 32 fitted\n",
            "Random Forest Model 33 fitted\n",
            "Random Forest Model 34 fitted\n",
            "Random Forest Model 35 fitted\n",
            "Random Forest Model 36 fitted\n",
            "Random Forest Model 37 fitted\n",
            "Random Forest Model 38 fitted\n",
            "Random Forest Model 39 fitted\n",
            "Random Forest Model 40 fitted\n",
            "Random Forest Model 41 fitted\n",
            "Random Forest Model 42 fitted\n",
            "Random Forest Model 43 fitted\n",
            "Random Forest Model 44 fitted\n",
            "Random Forest Model 45 fitted\n",
            "Random Forest Model 46 fitted\n",
            "Random Forest Model 47 fitted\n",
            "Random Forest Model 48 fitted\n",
            "Random Forest Model 49 fitted\n",
            "Random Forest Model 50 fitted\n"
          ]
        }
      ]
    },
    {
      "cell_type": "markdown",
      "source": [
        "Using RF"
      ],
      "metadata": {
        "id": "9jjNSR3NcgPr"
      }
    },
    {
      "cell_type": "code",
      "source": [
        "import pandas as pd\n",
        "import numpy as np\n",
        "from sklearn.ensemble import RandomForestRegressor\n",
        "from sklearn.metrics import mean_squared_error\n",
        "import matplotlib.pyplot as plt\n",
        "\n",
        "# Read datasets\n",
        "ideal_df = pd.read_csv(\"/content/drive/MyDrive/iubh_python_assign/dataset/ideal.csv\")\n",
        "test_df = pd.read_csv(\"/content/drive/MyDrive/iubh_python_assign/dataset/test.csv\")\n",
        "train_df = pd.read_csv(\"/content/drive/MyDrive/iubh_python_assign/dataset/train.csv\")\n",
        "print(\"Datasets loaded successfully\")"
      ],
      "metadata": {
        "colab": {
          "base_uri": "https://localhost:8080/"
        },
        "id": "HSOs46UXcAtP",
        "outputId": "e7ff4cf8-d0ad-462c-8769-49c5d01b2fae"
      },
      "execution_count": null,
      "outputs": [
        {
          "output_type": "stream",
          "name": "stdout",
          "text": [
            "Datasets loaded successfully\n"
          ]
        }
      ]
    },
    {
      "cell_type": "code",
      "source": [
        "# Separate x and y values for train and test datasets\n",
        "X_train = train_df[\"x\"].values.reshape(-1, 1)\n",
        "y_train = train_df.drop(columns=[\"x\"]).values\n",
        "X_test = test_df[\"x\"].values.reshape(-1, 1)\n",
        "\n",
        "print(\"Training and test data prepared\")"
      ],
      "metadata": {
        "colab": {
          "base_uri": "https://localhost:8080/"
        },
        "id": "AzZH0rz4cN3_",
        "outputId": "0ef21280-a5a2-47d9-9d1b-e077abab1109"
      },
      "execution_count": null,
      "outputs": [
        {
          "output_type": "stream",
          "name": "stdout",
          "text": [
            "Training and test data prepared\n"
          ]
        }
      ]
    },
    {
      "cell_type": "code",
      "source": [
        "# Fit Random Forest models for all 50 ideal functions\n",
        "models = []\n",
        "for i in range(1, 51):\n",
        "    model = RandomForestRegressor(n_estimators=100, random_state=0)\n",
        "    model.fit(X_train, ideal_df[f\"y{i}\"].values.reshape(-1, 1).ravel())\n",
        "    models.append(model)\n",
        "    print(f\"Random Forest Model {i} fitted\")"
      ],
      "metadata": {
        "colab": {
          "base_uri": "https://localhost:8080/"
        },
        "id": "hnn_L4vncOB7",
        "outputId": "af2a91e1-ea49-4302-df8a-983895970d5f"
      },
      "execution_count": null,
      "outputs": [
        {
          "output_type": "stream",
          "name": "stdout",
          "text": [
            "Random Forest Model 1 fitted\n",
            "Random Forest Model 2 fitted\n",
            "Random Forest Model 3 fitted\n",
            "Random Forest Model 4 fitted\n",
            "Random Forest Model 5 fitted\n",
            "Random Forest Model 6 fitted\n",
            "Random Forest Model 7 fitted\n",
            "Random Forest Model 8 fitted\n",
            "Random Forest Model 9 fitted\n",
            "Random Forest Model 10 fitted\n",
            "Random Forest Model 11 fitted\n",
            "Random Forest Model 12 fitted\n",
            "Random Forest Model 13 fitted\n",
            "Random Forest Model 14 fitted\n",
            "Random Forest Model 15 fitted\n",
            "Random Forest Model 16 fitted\n",
            "Random Forest Model 17 fitted\n",
            "Random Forest Model 18 fitted\n",
            "Random Forest Model 19 fitted\n",
            "Random Forest Model 20 fitted\n",
            "Random Forest Model 21 fitted\n",
            "Random Forest Model 22 fitted\n",
            "Random Forest Model 23 fitted\n",
            "Random Forest Model 24 fitted\n",
            "Random Forest Model 25 fitted\n",
            "Random Forest Model 26 fitted\n",
            "Random Forest Model 27 fitted\n",
            "Random Forest Model 28 fitted\n",
            "Random Forest Model 29 fitted\n",
            "Random Forest Model 30 fitted\n",
            "Random Forest Model 31 fitted\n",
            "Random Forest Model 32 fitted\n",
            "Random Forest Model 33 fitted\n",
            "Random Forest Model 34 fitted\n",
            "Random Forest Model 35 fitted\n",
            "Random Forest Model 36 fitted\n",
            "Random Forest Model 37 fitted\n",
            "Random Forest Model 38 fitted\n",
            "Random Forest Model 39 fitted\n",
            "Random Forest Model 40 fitted\n",
            "Random Forest Model 41 fitted\n",
            "Random Forest Model 42 fitted\n",
            "Random Forest Model 43 fitted\n",
            "Random Forest Model 44 fitted\n",
            "Random Forest Model 45 fitted\n",
            "Random Forest Model 46 fitted\n",
            "Random Forest Model 47 fitted\n",
            "Random Forest Model 48 fitted\n",
            "Random Forest Model 49 fitted\n",
            "Random Forest Model 50 fitted\n"
          ]
        }
      ]
    },
    {
      "cell_type": "code",
      "source": [
        "# Calculate sum of squared deviations for each ideal function on training data\n",
        "ssd = []\n",
        "for model in models:\n",
        "    y_pred = model.predict(X_train)\n",
        "    y_train_reshaped = y_train.ravel().reshape(-1, 1)\n",
        "    ssd.append(np.sum((y_pred - y_train_reshaped)**2))\n",
        "    print(f\"SSD for model: {np.sum((y_pred - y_train_reshaped)**2)}\")\n"
      ],
      "metadata": {
        "colab": {
          "base_uri": "https://localhost:8080/"
        },
        "id": "bhBQtuj3cTj6",
        "outputId": "b9557b29-9eb4-4d21-815c-5e3cab93510f"
      },
      "execution_count": null,
      "outputs": [
        {
          "output_type": "stream",
          "name": "stdout",
          "text": [
            "SSD for model: 192101853.8143646\n",
            "SSD for model: 192114319.88008082\n",
            "SSD for model: 256142639.0550512\n",
            "SSD for model: 208449086.81101826\n",
            "SSD for model: 255979053.24340793\n",
            "SSD for model: 192101906.2731431\n",
            "SSD for model: 192123457.89431107\n",
            "SSD for model: 191908977.55255738\n",
            "SSD for model: 193087700.2613342\n",
            "SSD for model: 231923873.3086257\n",
            "SSD for model: 277120799.58888775\n",
            "SSD for model: 961908709.7180723\n",
            "SSD for model: 549809056.0843669\n",
            "SSD for model: 277121738.7907406\n",
            "SSD for model: 219017503.21483412\n",
            "SSD for model: 20672063748.768127\n",
            "SSD for model: 20669881860.814384\n",
            "SSD for model: 82110704279.21335\n",
            "SSD for model: 22442846924.7033\n",
            "SSD for model: 25149588871.654633\n",
            "SSD for model: 5851022724850.332\n",
            "SSD for model: 5851039279281.039\n",
            "SSD for model: 5851023104910.124\n",
            "SSD for model: 23403515910633.215\n",
            "SSD for model: 52657241724633.0\n",
            "SSD for model: 7025663541870.6045\n",
            "SSD for model: 7174960884251.559\n",
            "SSD for model: 5892067323247.919\n",
            "SSD for model: 5859459179281.734\n",
            "SSD for model: 5955185610836.754\n",
            "SSD for model: 277203092.1972554\n",
            "SSD for model: 198213644.1927991\n",
            "SSD for model: 280407108.5356604\n",
            "SSD for model: 192348279.43045723\n",
            "SSD for model: 213121593.06206635\n",
            "SSD for model: 2325490303.0750203\n",
            "SSD for model: 277039454.3359731\n",
            "SSD for model: 192427154.8925433\n",
            "SSD for model: 20671014854.821648\n",
            "SSD for model: 78983394412.71274\n",
            "SSD for model: 532724352.6247524\n",
            "SSD for model: 533239244.4199459\n",
            "SSD for model: 195719406.4274895\n",
            "SSD for model: 191789593.00061166\n",
            "SSD for model: 284492482.6144769\n",
            "SSD for model: 204816832.96804893\n",
            "SSD for model: 204747587.96756512\n",
            "SSD for model: 191809441.31153223\n",
            "SSD for model: 192102122.70715985\n",
            "SSD for model: 192041516.58735132\n"
          ]
        }
      ]
    },
    {
      "cell_type": "code",
      "source": [
        "# Choose the four ideal functions with the lowest sum of squared deviations\n",
        "chosen_indices = np.argsort(ssd)[:4]\n",
        "chosen_models = [models[i] for i in chosen_indices]\n",
        "print(f\"Chosen model indices: {chosen_indices}\")\n"
      ],
      "metadata": {
        "colab": {
          "base_uri": "https://localhost:8080/"
        },
        "id": "duGYYv3sdZs1",
        "outputId": "ef3c1aba-184c-4631-b790-3acfecf33c07"
      },
      "execution_count": null,
      "outputs": [
        {
          "output_type": "stream",
          "name": "stdout",
          "text": [
            "Chosen model indices: [43 47  7 49]\n"
          ]
        }
      ]
    },
    {
      "cell_type": "code",
      "source": [
        "# Predict y-values for test data using chosen ideal functions\n",
        "test_predictions = np.zeros((len(X_test), 4))\n",
        "mse_values = []\n",
        "for i, model in enumerate(chosen_models):\n",
        "    test_predictions[:, i] = model.predict(X_test)\n",
        "    mse = mean_squared_error(test_df[\"y\"], test_predictions[:, i])\n",
        "    mse_values.append(mse)\n",
        "    print(f\"Predictions from model {chosen_indices[i] + 1} completed with MSE: {mse}\")\n"
      ],
      "metadata": {
        "colab": {
          "base_uri": "https://localhost:8080/"
        },
        "id": "xe5aq-Z0dgZ1",
        "outputId": "dc231a2a-bc46-40e2-8412-eda69f794121"
      },
      "execution_count": null,
      "outputs": [
        {
          "output_type": "stream",
          "name": "stdout",
          "text": [
            "Predictions from model 44 completed with MSE: 426.22204545384693\n",
            "Predictions from model 48 completed with MSE: 425.7581329857026\n",
            "Predictions from model 8 completed with MSE: 427.43869550811445\n",
            "Predictions from model 50 completed with MSE: 420.070515949183\n"
          ]
        }
      ]
    },
    {
      "cell_type": "code",
      "source": [
        "# Visualize the data and results\n",
        "plt.figure(figsize=(10, 6))\n",
        "plt.scatter(X_test, test_df[\"y\"], label=\"Test Data\")\n",
        "for i, model in enumerate(chosen_models):\n",
        "    plt.plot(X_test, test_predictions[:, i], label=f\"Ideal Function {chosen_indices[i] + 1}\")\n",
        "plt.xlabel(\"x\")\n",
        "plt.ylabel(\"y\")\n",
        "plt.title(\"Test Data and Predictions\")\n",
        "plt.legend()\n",
        "plt.grid(True)\n",
        "plt.savefig(\"test_predictions.png\")\n",
        "plt.show()\n",
        "print(\"Visualization completed and saved as 'test_predictions.png'\")\n"
      ],
      "metadata": {
        "colab": {
          "base_uri": "https://localhost:8080/",
          "height": 581
        },
        "id": "yaM_HEgJdljS",
        "outputId": "f3d03faa-bac3-4bb6-ac57-b5f8274e20d7"
      },
      "execution_count": null,
      "outputs": [
        {
          "output_type": "display_data",
          "data": {
            "text/plain": [
              "<Figure size 1000x600 with 1 Axes>"
            ],
            "image/png": "[encoded data removed]"
          },
          "metadata": {}
        },
        {
          "output_type": "stream",
          "name": "stdout",
          "text": [
            "Visualization completed and saved as 'test_predictions.png'\n"
          ]
        }
      ]
    },
    {
      "cell_type": "markdown",
      "source": [
        "Support Vector"
      ],
      "metadata": {
        "id": "E1nPusNseMIK"
      }
    },
    {
      "cell_type": "code",
      "source": [
        "from sklearn.svm import SVR\n",
        "\n",
        "models = []\n",
        "for i in range(1, 51):\n",
        "    model = SVR(kernel='rbf', C=100, gamma=0.1, epsilon=0.1)\n",
        "    model.fit(X_train, ideal_df[f\"y{i}\"].values.reshape(-1, 1).ravel())\n",
        "    models.append(model)\n",
        "    print(f\"SVR Model {i} fitted\")\n"
      ],
      "metadata": {
        "colab": {
          "base_uri": "https://localhost:8080/"
        },
        "id": "gERtaqbHeQtI",
        "outputId": "0e8cbd32-b310-4aa2-e65c-e2ece756b6e0"
      },
      "execution_count": null,
      "outputs": [
        {
          "output_type": "stream",
          "name": "stdout",
          "text": [
            "SVR Model 1 fitted\n",
            "SVR Model 2 fitted\n",
            "SVR Model 3 fitted\n",
            "SVR Model 4 fitted\n",
            "SVR Model 5 fitted\n",
            "SVR Model 6 fitted\n",
            "SVR Model 7 fitted\n",
            "SVR Model 8 fitted\n",
            "SVR Model 9 fitted\n",
            "SVR Model 10 fitted\n",
            "SVR Model 11 fitted\n",
            "SVR Model 12 fitted\n",
            "SVR Model 13 fitted\n",
            "SVR Model 14 fitted\n",
            "SVR Model 15 fitted\n",
            "SVR Model 16 fitted\n",
            "SVR Model 17 fitted\n",
            "SVR Model 18 fitted\n",
            "SVR Model 19 fitted\n",
            "SVR Model 20 fitted\n",
            "SVR Model 21 fitted\n",
            "SVR Model 22 fitted\n",
            "SVR Model 23 fitted\n",
            "SVR Model 24 fitted\n",
            "SVR Model 25 fitted\n",
            "SVR Model 26 fitted\n",
            "SVR Model 27 fitted\n",
            "SVR Model 28 fitted\n",
            "SVR Model 29 fitted\n",
            "SVR Model 30 fitted\n",
            "SVR Model 31 fitted\n",
            "SVR Model 32 fitted\n",
            "SVR Model 33 fitted\n",
            "SVR Model 34 fitted\n",
            "SVR Model 35 fitted\n",
            "SVR Model 36 fitted\n",
            "SVR Model 37 fitted\n",
            "SVR Model 38 fitted\n",
            "SVR Model 39 fitted\n",
            "SVR Model 40 fitted\n",
            "SVR Model 41 fitted\n",
            "SVR Model 42 fitted\n",
            "SVR Model 43 fitted\n",
            "SVR Model 44 fitted\n",
            "SVR Model 45 fitted\n",
            "SVR Model 46 fitted\n",
            "SVR Model 47 fitted\n",
            "SVR Model 48 fitted\n",
            "SVR Model 49 fitted\n",
            "SVR Model 50 fitted\n"
          ]
        }
      ]
    },
    {
      "cell_type": "markdown",
      "source": [
        "Example Code using SVR"
      ],
      "metadata": {
        "id": "QA0MK24XfB_G"
      }
    },
    {
      "cell_type": "code",
      "source": [
        "import pandas as pd\n",
        "import numpy as np\n",
        "from sklearn.svm import SVR\n",
        "from sklearn.metrics import mean_squared_error\n",
        "import matplotlib.pyplot as plt\n",
        "\n",
        "# Step 1: Read datasets and initial setup\n",
        "# Read datasets\n",
        "ideal_df = pd.read_csv(\"/content/drive/MyDrive/iubh_python_assign/dataset/ideal.csv\")\n",
        "test_df = pd.read_csv(\"/content/drive/MyDrive/iubh_python_assign/dataset/test.csv\")\n",
        "train_df = pd.read_csv(\"/content/drive/MyDrive/iubh_python_assign/dataset/train.csv\")\n",
        "print(\"Datasets loaded successfully\")\n",
        "\n",
        "# Step 2: Prepare training and test data\n",
        "X_train = train_df[\"x\"].values.reshape(-1, 1)\n",
        "y_train = train_df.drop(columns=[\"x\"]).values\n",
        "X_test = test_df[\"x\"].values.reshape(-1, 1)\n",
        "print(\"Training and test data prepared\")\n",
        "\n",
        "# Step 3: Fit SVR models\n",
        "models = []\n",
        "for i in range(1, 51):\n",
        "    model = SVR(kernel='rbf', C=100, gamma=0.1, epsilon=0.1)\n",
        "    model.fit(X_train, ideal_df[f\"y{i}\"].values.reshape(-1, 1).ravel())\n",
        "    models.append(model)\n",
        "    print(f\"SVR Model {i} fitted\")\n",
        "\n",
        "# Step 4: Calculate sum of squared deviations (SSD)\n",
        "ssd = []\n",
        "for model in models:\n",
        "    y_pred = model.predict(X_train)\n",
        "    # Reshape y_train for consistency in shape\n",
        "    y_train_reshaped = ideal_df[f\"y{models.index(model) + 1}\"].values.reshape(-1, 1)\n",
        "    ssd.append(np.sum((y_pred - y_train_reshaped)**2))\n",
        "    print(f\"SSD for model {models.index(model) + 1}: {np.sum((y_pred - y_train_reshaped)**2)}\")\n",
        "\n",
        "# Step 5: Select best models\n",
        "chosen_indices = np.argsort(ssd)[:4]\n",
        "chosen_models = [models[i] for i in chosen_indices]\n",
        "print(f\"Chosen model indices: {chosen_indices}\")\n",
        "\n",
        "# Step 6: Predict on test data and evaluate\n",
        "test_predictions = np.zeros((len(X_test), 4))\n",
        "mse_values = []\n",
        "for i, model in enumerate(chosen_models):\n",
        "    test_predictions[:, i] = model.predict(X_test)\n",
        "    mse = mean_squared_error(test_df[\"y\"], test_predictions[:, i])\n",
        "    mse_values.append(mse)\n",
        "    print(f\"Predictions from model {chosen_indices[i] + 1} completed with MSE: {mse}\")\n",
        "\n",
        "# Step 7: Visualization\n",
        "plt.figure(figsize=(10, 6))\n",
        "plt.scatter(X_test, test_df[\"y\"], label=\"Test Data\")\n",
        "for i, model in enumerate(chosen_models):\n",
        "    plt.plot(X_test, test_predictions[:, i], label=f\"Ideal Function {chosen_indices[i] + 1}\")\n",
        "plt.xlabel(\"x\")\n",
        "plt.ylabel(\"y\")\n",
        "plt.title(\"Test Data and Predictions\")\n",
        "plt.legend()\n",
        "plt.grid(True)\n",
        "plt.savefig(\"test_predictions.png\")\n",
        "plt.show()\n",
        "print(\"Visualization completed and saved as 'test_predictions.png'\")\n"
      ],
      "metadata": {
        "colab": {
          "base_uri": "https://localhost:8080/",
          "height": 1000
        },
        "id": "PO8F3vaDeUnp",
        "outputId": "091b28be-624f-44e8-f220-5da2f7964782"
      },
      "execution_count": null,
      "outputs": [
        {
          "output_type": "stream",
          "name": "stdout",
          "text": [
            "Datasets loaded successfully\n",
            "Training and test data prepared\n",
            "SVR Model 1 fitted\n",
            "SVR Model 2 fitted\n",
            "SVR Model 3 fitted\n",
            "SVR Model 4 fitted\n",
            "SVR Model 5 fitted\n",
            "SVR Model 6 fitted\n",
            "SVR Model 7 fitted\n",
            "SVR Model 8 fitted\n",
            "SVR Model 9 fitted\n",
            "SVR Model 10 fitted\n",
            "SVR Model 11 fitted\n",
            "SVR Model 12 fitted\n",
            "SVR Model 13 fitted\n",
            "SVR Model 14 fitted\n",
            "SVR Model 15 fitted\n",
            "SVR Model 16 fitted\n",
            "SVR Model 17 fitted\n",
            "SVR Model 18 fitted\n",
            "SVR Model 19 fitted\n",
            "SVR Model 20 fitted\n",
            "SVR Model 21 fitted\n",
            "SVR Model 22 fitted\n",
            "SVR Model 23 fitted\n",
            "SVR Model 24 fitted\n",
            "SVR Model 25 fitted\n",
            "SVR Model 26 fitted\n",
            "SVR Model 27 fitted\n",
            "SVR Model 28 fitted\n",
            "SVR Model 29 fitted\n",
            "SVR Model 30 fitted\n",
            "SVR Model 31 fitted\n",
            "SVR Model 32 fitted\n",
            "SVR Model 33 fitted\n",
            "SVR Model 34 fitted\n",
            "SVR Model 35 fitted\n",
            "SVR Model 36 fitted\n",
            "SVR Model 37 fitted\n",
            "SVR Model 38 fitted\n",
            "SVR Model 39 fitted\n",
            "SVR Model 40 fitted\n",
            "SVR Model 41 fitted\n",
            "SVR Model 42 fitted\n",
            "SVR Model 43 fitted\n",
            "SVR Model 44 fitted\n",
            "SVR Model 45 fitted\n",
            "SVR Model 46 fitted\n",
            "SVR Model 47 fitted\n",
            "SVR Model 48 fitted\n",
            "SVR Model 49 fitted\n",
            "SVR Model 50 fitted\n",
            "SSD for model 1: 142103.48402720183\n",
            "SSD for model 2: 147555.52653635477\n",
            "SSD for model 3: 142100.57401785793\n",
            "SSD for model 4: 147567.65969026292\n",
            "SSD for model 5: 142099.68419896683\n",
            "SSD for model 6: 142093.75676232824\n",
            "SSD for model 7: 149861.5355762851\n",
            "SSD for model 8: 86399.58328353656\n",
            "SSD for model 9: 619067.4096441658\n",
            "SSD for model 10: 20090340.09219954\n",
            "SSD for model 11: 42486533.747988395\n",
            "SSD for model 12: 383519096.1655416\n",
            "SSD for model 13: 170361701.09915417\n",
            "SSD for model 14: 42485562.15345894\n",
            "SSD for model 15: 10561156.620631313\n",
            "SSD for model 16: 4538005608.368184\n",
            "SSD for model 17: 4537998261.938633\n",
            "SSD for model 18: 18091103627.502045\n",
            "SSD for model 19: 4538007524.500705\n",
            "SSD for model 20: 6015284875.783082\n",
            "SSD for model 21: 2246139742808.4\n",
            "SSD for model 22: 1376828421329.4705\n",
            "SSD for model 23: 2246137043922.798\n",
            "SSD for model 24: 7341933990511.834\n",
            "SSD for model 25: 15024002576452.752\n",
            "SSD for model 26: 2502652420703.9844\n",
            "SSD for model 27: 2529715471599.8584\n",
            "SSD for model 28: 2260915808758.1616\n",
            "SSD for model 29: 2246336587352.9087\n",
            "SSD for model 30: 2260406832035.645\n",
            "SSD for model 31: 10644996.420392305\n",
            "SSD for model 32: 346902.5261000816\n",
            "SSD for model 33: 9404763.643455893\n",
            "SSD for model 34: 185803.7075465222\n",
            "SSD for model 35: 10644849.227504905\n",
            "SSD for model 36: 266365622.76615793\n",
            "SSD for model 37: 10645492.369605554\n",
            "SSD for model 38: 298810.0964253983\n",
            "SSD for model 39: 4537723447.28807\n",
            "SSD for model 40: 21670464578.180405\n",
            "SSD for model 41: 170166238.31330755\n",
            "SSD for model 42: 170414663.78393558\n",
            "SSD for model 43: 653171.2988792135\n",
            "SSD for model 44: 0.23831947144929802\n",
            "SSD for model 45: 653170.2989230743\n",
            "SSD for model 46: 653167.3535038006\n",
            "SSD for model 47: 653198.9611478713\n",
            "SSD for model 48: 7038.364389495515\n",
            "SSD for model 49: 148297.56875409573\n",
            "SSD for model 50: 113111.5105673109\n",
            "Chosen model indices: [43 47  7 49]\n",
            "Predictions from model 44 completed with MSE: 426.20507407996706\n",
            "Predictions from model 48 completed with MSE: 425.87258670118155\n",
            "Predictions from model 8 completed with MSE: 425.8633476531299\n",
            "Predictions from model 50 completed with MSE: 420.8897586681711\n"
          ]
        },
        {
          "output_type": "display_data",
          "data": {
            "text/plain": [
              "<Figure size 1000x600 with 1 Axes>"
            ],
            "image/png": "[encoded data removed]"
          },
          "metadata": {}
        },
        {
          "output_type": "stream",
          "name": "stdout",
          "text": [
            "Visualization completed and saved as 'test_predictions.png'\n"
          ]
        }
      ]
    },
    {
      "cell_type": "markdown",
      "source": [
        "Gradient Boosting"
      ],
      "metadata": {
        "id": "TLNFg9MxeVM8"
      }
    },
    {
      "cell_type": "markdown",
      "source": [],
      "metadata": {
        "id": "FYJ1q5RTf4gJ"
      }
    },
    {
      "cell_type": "code",
      "source": [
        "from sklearn.ensemble import GradientBoostingRegressor\n",
        "\n",
        "models = []\n",
        "for i in range(1, 51):\n",
        "    model = GradientBoostingRegressor(n_estimators=100, random_state=0)\n",
        "    model.fit(X_train, ideal_df[f\"y{i}\"].values.reshape(-1, 1).ravel())\n",
        "    models.append(model)\n",
        "    print(f\"Gradient Boosting Model {i} fitted\")\n"
      ],
      "metadata": {
        "colab": {
          "base_uri": "https://localhost:8080/"
        },
        "id": "YWWiUJKXeYz3",
        "outputId": "b63705b2-ad62-4c4e-fa3e-9f59bfd6e281"
      },
      "execution_count": null,
      "outputs": [
        {
          "output_type": "stream",
          "name": "stdout",
          "text": [
            "Gradient Boosting Model 1 fitted\n",
            "Gradient Boosting Model 2 fitted\n",
            "Gradient Boosting Model 3 fitted\n",
            "Gradient Boosting Model 4 fitted\n",
            "Gradient Boosting Model 5 fitted\n",
            "Gradient Boosting Model 6 fitted\n",
            "Gradient Boosting Model 7 fitted\n",
            "Gradient Boosting Model 8 fitted\n",
            "Gradient Boosting Model 9 fitted\n",
            "Gradient Boosting Model 10 fitted\n",
            "Gradient Boosting Model 11 fitted\n",
            "Gradient Boosting Model 12 fitted\n",
            "Gradient Boosting Model 13 fitted\n",
            "Gradient Boosting Model 14 fitted\n",
            "Gradient Boosting Model 15 fitted\n",
            "Gradient Boosting Model 16 fitted\n",
            "Gradient Boosting Model 17 fitted\n",
            "Gradient Boosting Model 18 fitted\n",
            "Gradient Boosting Model 19 fitted\n",
            "Gradient Boosting Model 20 fitted\n",
            "Gradient Boosting Model 21 fitted\n",
            "Gradient Boosting Model 22 fitted\n",
            "Gradient Boosting Model 23 fitted\n",
            "Gradient Boosting Model 24 fitted\n",
            "Gradient Boosting Model 25 fitted\n",
            "Gradient Boosting Model 26 fitted\n",
            "Gradient Boosting Model 27 fitted\n",
            "Gradient Boosting Model 28 fitted\n",
            "Gradient Boosting Model 29 fitted\n",
            "Gradient Boosting Model 30 fitted\n",
            "Gradient Boosting Model 31 fitted\n",
            "Gradient Boosting Model 32 fitted\n",
            "Gradient Boosting Model 33 fitted\n",
            "Gradient Boosting Model 34 fitted\n",
            "Gradient Boosting Model 35 fitted\n",
            "Gradient Boosting Model 36 fitted\n",
            "Gradient Boosting Model 37 fitted\n",
            "Gradient Boosting Model 38 fitted\n",
            "Gradient Boosting Model 39 fitted\n",
            "Gradient Boosting Model 40 fitted\n",
            "Gradient Boosting Model 41 fitted\n",
            "Gradient Boosting Model 42 fitted\n",
            "Gradient Boosting Model 43 fitted\n",
            "Gradient Boosting Model 44 fitted\n",
            "Gradient Boosting Model 45 fitted\n",
            "Gradient Boosting Model 46 fitted\n",
            "Gradient Boosting Model 47 fitted\n",
            "Gradient Boosting Model 48 fitted\n",
            "Gradient Boosting Model 49 fitted\n",
            "Gradient Boosting Model 50 fitted\n"
          ]
        }
      ]
    },
    {
      "cell_type": "markdown",
      "source": [
        "Example for GBR"
      ],
      "metadata": {
        "id": "Mu4k-U4ef868"
      }
    },
    {
      "cell_type": "code",
      "source": [
        "import pandas as pd\n",
        "import numpy as np\n",
        "from sklearn.ensemble import GradientBoostingRegressor\n",
        "from sklearn.metrics import mean_squared_error\n",
        "import matplotlib.pyplot as plt\n",
        "\n",
        "# Step 1: Read datasets and initial setup\n",
        "ideal_df = pd.read_csv(\"/content/drive/MyDrive/iubh_python_assign/dataset/ideal.csv\")\n",
        "test_df = pd.read_csv(\"/content/drive/MyDrive/iubh_python_assign/dataset/test.csv\")\n",
        "train_df = pd.read_csv(\"/content/drive/MyDrive/iubh_python_assign/dataset/train.csv\")\n",
        "print(\"Datasets loaded successfully\")\n",
        "\n",
        "# Step 2: Prepare training and test data\n",
        "X_train = train_df[\"x\"].values.reshape(-1, 1)\n",
        "y_train = train_df.drop(columns=[\"x\"]).values\n",
        "X_test = test_df[\"x\"].values.reshape(-1, 1)\n",
        "print(\"Training and test data prepared\")\n",
        "\n",
        "# Step 3: Fit Gradient Boosting models\n",
        "models = []\n",
        "for i in range(1, 51):\n",
        "    model = GradientBoostingRegressor(n_estimators=100, random_state=0)\n",
        "    model.fit(X_train, ideal_df[f\"y{i}\"].values.reshape(-1, 1).ravel())\n",
        "    models.append(model)\n",
        "    print(f\"Gradient Boosting Model {i} fitted\")\n",
        "\n",
        "# Step 4: Calculate sum of squared deviations (SSD)\n",
        "ssd = []\n",
        "for model in models:\n",
        "    # Predict on the training data for the current model\n",
        "    y_pred = model.predict(X_train)\n",
        "    # Get the index of the current model\n",
        "    model_index = models.index(model) + 1\n",
        "    # Extract the corresponding ideal y values for this model\n",
        "    y_ideal = ideal_df[f\"y{model_index}\"].values\n",
        "    # Calculate the SSD for this model\n",
        "    ssd.append(np.sum((y_pred - y_ideal)**2))\n",
        "    print(f\"SSD for model {model_index}: {np.sum((y_pred - y_ideal)**2)}\")\n",
        "\n",
        "\n",
        "# Step 5: Select best models\n",
        "chosen_indices = np.argsort(ssd)[:4]\n",
        "chosen_models = [models[i] for i in chosen_indices]\n",
        "print(f\"Chosen model indices: {chosen_indices}\")\n",
        "\n",
        "# Step 6: Predict on test data and evaluate\n",
        "test_predictions = np.zeros((len(X_test), 4))\n",
        "mse_values = []\n",
        "for i, model in enumerate(chosen_models):\n",
        "    test_predictions[:, i] = model.predict(X_test)\n",
        "    mse = mean_squared_error(test_df[\"y\"], test_predictions[:, i])\n",
        "    mse_values.append(mse)\n",
        "    print(f\"Predictions from model {chosen_indices[i] + 1} completed with MSE: {mse}\")\n",
        "\n",
        "# Step 7: Visualization\n",
        "plt.figure(figsize=(10, 6))\n",
        "plt.scatter(X_test, test_df[\"y\"], label=\"Test Data\")\n",
        "for i, model in enumerate(chosen_models):\n",
        "    plt.plot(X_test, test_predictions[:, i], label=f\"Ideal Function {chosen_indices[i] + 1}\")\n",
        "plt.xlabel(\"x\")\n",
        "plt.ylabel(\"y\")\n",
        "plt.title(\"Test Data and Predictions\")\n",
        "plt.legend()\n",
        "plt.grid(True)\n",
        "plt.savefig(\"test_predictions.png\")\n",
        "plt.show()\n",
        "print(\"Visualization completed and saved as 'test_predictions.png'\")\n"
      ],
      "metadata": {
        "colab": {
          "base_uri": "https://localhost:8080/",
          "height": 1000
        },
        "id": "2XXwnc_if4M6",
        "outputId": "fc5f62bf-b1a9-4f99-d3fb-019b25e44254"
      },
      "execution_count": null,
      "outputs": [
        {
          "output_type": "stream",
          "name": "stdout",
          "text": [
            "Datasets loaded successfully\n",
            "Training and test data prepared\n",
            "Gradient Boosting Model 1 fitted\n",
            "Gradient Boosting Model 2 fitted\n",
            "Gradient Boosting Model 3 fitted\n",
            "Gradient Boosting Model 4 fitted\n",
            "Gradient Boosting Model 5 fitted\n",
            "Gradient Boosting Model 6 fitted\n",
            "Gradient Boosting Model 7 fitted\n",
            "Gradient Boosting Model 8 fitted\n",
            "Gradient Boosting Model 9 fitted\n",
            "Gradient Boosting Model 10 fitted\n",
            "Gradient Boosting Model 11 fitted\n",
            "Gradient Boosting Model 12 fitted\n",
            "Gradient Boosting Model 13 fitted\n",
            "Gradient Boosting Model 14 fitted\n",
            "Gradient Boosting Model 15 fitted\n",
            "Gradient Boosting Model 16 fitted\n",
            "Gradient Boosting Model 17 fitted\n",
            "Gradient Boosting Model 18 fitted\n",
            "Gradient Boosting Model 19 fitted\n",
            "Gradient Boosting Model 20 fitted\n",
            "Gradient Boosting Model 21 fitted\n",
            "Gradient Boosting Model 22 fitted\n",
            "Gradient Boosting Model 23 fitted\n",
            "Gradient Boosting Model 24 fitted\n",
            "Gradient Boosting Model 25 fitted\n",
            "Gradient Boosting Model 26 fitted\n",
            "Gradient Boosting Model 27 fitted\n",
            "Gradient Boosting Model 28 fitted\n",
            "Gradient Boosting Model 29 fitted\n",
            "Gradient Boosting Model 30 fitted\n",
            "Gradient Boosting Model 31 fitted\n",
            "Gradient Boosting Model 32 fitted\n",
            "Gradient Boosting Model 33 fitted\n",
            "Gradient Boosting Model 34 fitted\n",
            "Gradient Boosting Model 35 fitted\n",
            "Gradient Boosting Model 36 fitted\n",
            "Gradient Boosting Model 37 fitted\n",
            "Gradient Boosting Model 38 fitted\n",
            "Gradient Boosting Model 39 fitted\n",
            "Gradient Boosting Model 40 fitted\n",
            "Gradient Boosting Model 41 fitted\n",
            "Gradient Boosting Model 42 fitted\n",
            "Gradient Boosting Model 43 fitted\n",
            "Gradient Boosting Model 44 fitted\n",
            "Gradient Boosting Model 45 fitted\n",
            "Gradient Boosting Model 46 fitted\n",
            "Gradient Boosting Model 47 fitted\n",
            "Gradient Boosting Model 48 fitted\n",
            "Gradient Boosting Model 49 fitted\n",
            "Gradient Boosting Model 50 fitted\n",
            "SSD for model 1: 3.283063392602343\n",
            "SSD for model 2: 3.601209570442623\n",
            "SSD for model 3: 3.2830636864201503\n",
            "SSD for model 4: 3.551505235348199\n",
            "SSD for model 5: 3.2830636864201503\n",
            "SSD for model 6: 3.283063392602343\n",
            "SSD for model 7: 0.3260312012395211\n",
            "SSD for model 8: 158.18598198594418\n",
            "SSD for model 9: 14.20601912691463\n",
            "SSD for model 10: 226.8937997129728\n",
            "SSD for model 11: 2.24294725565818\n",
            "SSD for model 12: 20.18652530092435\n",
            "SSD for model 13: 8.97178902263321\n",
            "SSD for model 14: 2.24294725565818\n",
            "SSD for model 15: 0.5607368139145619\n",
            "SSD for model 16: 831.8906447746617\n",
            "SSD for model 17: 831.8906447746617\n",
            "SSD for model 18: 3327.562579098647\n",
            "SSD for model 19: 831.8906447746617\n",
            "SSD for model 20: 676.109277722888\n",
            "SSD for model 21: 216341.37532507844\n",
            "SSD for model 22: 257927.12012411692\n",
            "SSD for model 23: 216341.37532507844\n",
            "SSD for model 24: 865365.5013003137\n",
            "SSD for model 25: 1947072.5146351587\n",
            "SSD for model 26: 218730.23547163268\n",
            "SSD for model 27: 218689.0046196559\n",
            "SSD for model 28: 227486.22305467408\n",
            "SSD for model 29: 212450.57482026558\n",
            "SSD for model 30: 212207.80071592762\n",
            "SSD for model 31: 2.6079928386381797\n",
            "SSD for model 32: 0.10714626886781582\n",
            "SSD for model 33: 1.8996484203204347\n",
            "SSD for model 34: 4.441094142095119\n",
            "SSD for model 35: 2.6079928386382374\n",
            "SSD for model 36: 61.954350345853385\n",
            "SSD for model 37: 2.6079928386381797\n",
            "SSD for model 38: 7.406569846486187\n",
            "SSD for model 39: 846.4154561379924\n",
            "SSD for model 40: 810.4285339761833\n",
            "SSD for model 41: 8.939831574006991\n",
            "SSD for model 42: 8.683782696132498\n",
            "SSD for model 43: 0.6034498754456479\n",
            "SSD for model 44: 2.427999082313361e-08\n",
            "SSD for model 45: 0.6034499023032324\n",
            "SSD for model 46: 0.603449779421303\n",
            "SSD for model 47: 0.603449779421303\n",
            "SSD for model 48: 1.6158742664754209\n",
            "SSD for model 49: 3.588202706505637\n",
            "SSD for model 50: 2.4484138775807156\n",
            "Chosen model indices: [43 31  6 14]\n",
            "Predictions from model 44 completed with MSE: 426.22202243186007\n",
            "Predictions from model 32 completed with MSE: 437.3497630507347\n",
            "Predictions from model 7 completed with MSE: 420.3214749425136\n",
            "Predictions from model 15 completed with MSE: 553.9109039083777\n"
          ]
        },
        {
          "output_type": "display_data",
          "data": {
            "text/plain": [
              "<Figure size 1000x600 with 1 Axes>"
            ],
            "image/png": "[encoded data removed]"
          },
          "metadata": {}
        },
        {
          "output_type": "stream",
          "name": "stdout",
          "text": [
            "Visualization completed and saved as 'test_predictions.png'\n"
          ]
        }
      ]
    },
    {
      "cell_type": "markdown",
      "source": [
        "K- Nearest Neighbour"
      ],
      "metadata": {
        "id": "1GLdZg8nedub"
      }
    },
    {
      "cell_type": "code",
      "source": [
        "from sklearn.neighbors import KNeighborsRegressor\n",
        "\n",
        "models = []\n",
        "for i in range(1, 51):\n",
        "    model = KNeighborsRegressor(n_neighbors=5)\n",
        "    model.fit(X_train, ideal_df[f\"y{i}\"].values.reshape(-1, 1).ravel())\n",
        "    models.append(model)\n",
        "    print(f\"KNN Model {i} fitted\")\n"
      ],
      "metadata": {
        "colab": {
          "base_uri": "https://localhost:8080/"
        },
        "id": "0UmwJyVYedh9",
        "outputId": "d2280074-d098-4d83-dbcb-7d57ba7e9427"
      },
      "execution_count": null,
      "outputs": [
        {
          "output_type": "stream",
          "name": "stdout",
          "text": [
            "KNN Model 1 fitted\n",
            "KNN Model 2 fitted\n",
            "KNN Model 3 fitted\n",
            "KNN Model 4 fitted\n",
            "KNN Model 5 fitted\n",
            "KNN Model 6 fitted\n",
            "KNN Model 7 fitted\n",
            "KNN Model 8 fitted\n",
            "KNN Model 9 fitted\n",
            "KNN Model 10 fitted\n",
            "KNN Model 11 fitted\n",
            "KNN Model 12 fitted\n",
            "KNN Model 13 fitted\n",
            "KNN Model 14 fitted\n",
            "KNN Model 15 fitted\n",
            "KNN Model 16 fitted\n",
            "KNN Model 17 fitted\n",
            "KNN Model 18 fitted\n",
            "KNN Model 19 fitted\n",
            "KNN Model 20 fitted\n",
            "KNN Model 21 fitted\n",
            "KNN Model 22 fitted\n",
            "KNN Model 23 fitted\n",
            "KNN Model 24 fitted\n",
            "KNN Model 25 fitted\n",
            "KNN Model 26 fitted\n",
            "KNN Model 27 fitted\n",
            "KNN Model 28 fitted\n",
            "KNN Model 29 fitted\n",
            "KNN Model 30 fitted\n",
            "KNN Model 31 fitted\n",
            "KNN Model 32 fitted\n",
            "KNN Model 33 fitted\n",
            "KNN Model 34 fitted\n",
            "KNN Model 35 fitted\n",
            "KNN Model 36 fitted\n",
            "KNN Model 37 fitted\n",
            "KNN Model 38 fitted\n",
            "KNN Model 39 fitted\n",
            "KNN Model 40 fitted\n",
            "KNN Model 41 fitted\n",
            "KNN Model 42 fitted\n",
            "KNN Model 43 fitted\n",
            "KNN Model 44 fitted\n",
            "KNN Model 45 fitted\n",
            "KNN Model 46 fitted\n",
            "KNN Model 47 fitted\n",
            "KNN Model 48 fitted\n",
            "KNN Model 49 fitted\n",
            "KNN Model 50 fitted\n"
          ]
        }
      ]
    },
    {
      "cell_type": "markdown",
      "source": [
        "Example for KNN"
      ],
      "metadata": {
        "id": "tpoUS3aIgjen"
      }
    },
    {
      "cell_type": "code",
      "source": [
        "import pandas as pd\n",
        "import numpy as np\n",
        "from sklearn.neighbors import KNeighborsRegressor\n",
        "from sklearn.metrics import mean_squared_error\n",
        "import matplotlib.pyplot as plt\n",
        "\n",
        "# Step 1: Read datasets and initial setup\n",
        "# Read datasets\n",
        "ideal_df = pd.read_csv(\"/content/drive/MyDrive/iubh_python_assign/dataset/ideal.csv\")\n",
        "test_df = pd.read_csv(\"/content/drive/MyDrive/iubh_python_assign/dataset/test.csv\")\n",
        "train_df = pd.read_csv(\"/content/drive/MyDrive/iubh_python_assign/dataset/train.csv\")\n",
        "print(\"Datasets loaded successfully\")\n",
        "\n",
        "# Step 2: Prepare training and test data\n",
        "X_train = train_df[\"x\"].values.reshape(-1, 1)\n",
        "y_train = train_df.drop(columns=[\"x\"]).values\n",
        "X_test = test_df[\"x\"].values.reshape(-1, 1)\n",
        "print(\"Training and test data prepared\")\n",
        "\n",
        "# Step 3: Fit KNN models\n",
        "models = []\n",
        "for i in range(1, 51):\n",
        "    model = KNeighborsRegressor(n_neighbors=5)\n",
        "    model.fit(X_train, ideal_df[f\"y{i}\"].values.reshape(-1, 1))\n",
        "    models.append(model)\n",
        "    print(f\"KNN Model {i} fitted\")\n",
        "\n",
        "# Step 4: Calculate sum of squared deviations (SSD)\n",
        "ssd = []\n",
        "for model in models:\n",
        "    y_pred = model.predict(X_train)\n",
        "    ssd.append(np.sum((y_pred - y_train.ravel())**2))\n",
        "    print(f\"SSD for model: {np.sum((y_pred - y_train.ravel())**2)}\")\n",
        "\n",
        "# Step 5: Select best models\n",
        "chosen_indices = np.argsort(ssd)[:4]\n",
        "chosen_models = [models[i] for i in chosen_indices]\n",
        "print(f\"Chosen model indices: {chosen_indices}\")\n",
        "\n",
        "# Step 6: Predict on test data and evaluate\n",
        "test_predictions = np.zeros((len(X_test), 4))\n",
        "mse_values = []\n",
        "for i, model in enumerate(chosen_models):\n",
        "    # Predict on the test data for the current model\n",
        "    y_pred = model.predict(X_test)\n",
        "    # Reshape the predicted values to match the shape of test_predictions\n",
        "    test_predictions[:, i] = y_pred.ravel()\n",
        "    # Calculate MSE for this model\n",
        "    mse = mean_squared_error(test_df[\"y\"], test_predictions[:, i])\n",
        "    mse_values.append(mse)\n",
        "    print(f\"Predictions from model {chosen_indices[i] + 1} completed with MSE: {mse}\")\n",
        "\n",
        "\n",
        "# Step 7: Visualization\n",
        "plt.figure(figsize=(10, 6))\n",
        "plt.scatter(X_test, test_df[\"y\"], label=\"Test Data\")\n",
        "for i, model in enumerate(chosen_models):\n",
        "    plt.plot(X_test, test_predictions[:, i], label=f\"Ideal Function {chosen_indices[i] + 1}\")\n",
        "plt.xlabel(\"x\")\n",
        "plt.ylabel(\"y\")\n",
        "plt.title(\"Test Data and Predictions\")\n",
        "plt.legend()\n",
        "plt.grid(True)\n",
        "plt.savefig(\"test_predictions.png\")\n",
        "plt.show()\n",
        "print(\"Visualization completed and saved as 'test_predictions.png'\")\n"
      ],
      "metadata": {
        "colab": {
          "base_uri": "https://localhost:8080/",
          "height": 1000
        },
        "id": "QUlHmjU1glPD",
        "outputId": "b27a36f7-83ca-495c-ea7d-d82525dfeec2"
      },
      "execution_count": null,
      "outputs": [
        {
          "output_type": "stream",
          "name": "stdout",
          "text": [
            "Datasets loaded successfully\n",
            "Training and test data prepared\n",
            "KNN Model 1 fitted\n",
            "KNN Model 2 fitted\n",
            "KNN Model 3 fitted\n",
            "KNN Model 4 fitted\n",
            "KNN Model 5 fitted\n",
            "KNN Model 6 fitted\n",
            "KNN Model 7 fitted\n",
            "KNN Model 8 fitted\n",
            "KNN Model 9 fitted\n",
            "KNN Model 10 fitted\n",
            "KNN Model 11 fitted\n",
            "KNN Model 12 fitted\n",
            "KNN Model 13 fitted\n",
            "KNN Model 14 fitted\n",
            "KNN Model 15 fitted\n",
            "KNN Model 16 fitted\n",
            "KNN Model 17 fitted\n",
            "KNN Model 18 fitted\n",
            "KNN Model 19 fitted\n",
            "KNN Model 20 fitted\n",
            "KNN Model 21 fitted\n",
            "KNN Model 22 fitted\n",
            "KNN Model 23 fitted\n",
            "KNN Model 24 fitted\n",
            "KNN Model 25 fitted\n",
            "KNN Model 26 fitted\n",
            "KNN Model 27 fitted\n",
            "KNN Model 28 fitted\n",
            "KNN Model 29 fitted\n",
            "KNN Model 30 fitted\n",
            "KNN Model 31 fitted\n",
            "KNN Model 32 fitted\n",
            "KNN Model 33 fitted\n",
            "KNN Model 34 fitted\n",
            "KNN Model 35 fitted\n",
            "KNN Model 36 fitted\n",
            "KNN Model 37 fitted\n",
            "KNN Model 38 fitted\n",
            "KNN Model 39 fitted\n",
            "KNN Model 40 fitted\n",
            "KNN Model 41 fitted\n",
            "KNN Model 42 fitted\n",
            "KNN Model 43 fitted\n",
            "KNN Model 44 fitted\n",
            "KNN Model 45 fitted\n",
            "KNN Model 46 fitted\n",
            "KNN Model 47 fitted\n",
            "KNN Model 48 fitted\n",
            "KNN Model 49 fitted\n",
            "KNN Model 50 fitted\n",
            "SSD for model: 192096558.81917766\n",
            "SSD for model: 192110320.18918076\n",
            "SSD for model: 256148665.25714123\n",
            "SSD for model: 208448109.30870152\n",
            "SSD for model: 255985064.97220504\n",
            "SSD for model: 192096596.8046197\n",
            "SSD for model: 192122484.29733694\n",
            "SSD for model: 191834964.49215192\n",
            "SSD for model: 193071693.7707161\n",
            "SSD for model: 231027109.8820399\n",
            "SSD for model: 277085520.20613825\n",
            "SSD for model: 961647625.8418242\n",
            "SSD for model: 549573161.5428678\n",
            "SSD for model: 277086338.3974901\n",
            "SSD for model: 218994439.5902089\n",
            "SSD for model: 20647186009.71527\n",
            "SSD for model: 20645004785.208366\n",
            "SSD for model: 82011193986.44872\n",
            "SSD for model: 22417450228.85046\n",
            "SSD for model: 25148333736.36288\n",
            "SSD for model: 5836907415461.417\n",
            "SSD for model: 5836923933712.671\n",
            "SSD for model: 5836907742641.001\n",
            "SSD for model: 23347054620197.35\n",
            "SSD for model: 52530265777284.47\n",
            "SSD for model: 7021310850536.137\n",
            "SSD for model: 7148142703782.336\n",
            "SSD for model: 5877904734289.442\n",
            "SSD for model: 5847135744334.471\n",
            "SSD for model: 5937358488873.839\n",
            "SSD for model: 277167794.01508963\n",
            "SSD for model: 198212337.30811518\n",
            "SSD for model: 280373293.58943224\n",
            "SSD for model: 192339293.13726544\n",
            "SSD for model: 213098774.87990063\n",
            "SSD for model: 2324608008.0681915\n",
            "SSD for model: 277004172.1085387\n",
            "SSD for model: 192417851.38347328\n",
            "SSD for model: 20646309135.989258\n",
            "SSD for model: 78837383513.40903\n",
            "SSD for model: 532569598.4049081\n",
            "SSD for model: 533083037.2427224\n",
            "SSD for model: 195353075.72639966\n",
            "SSD for model: 191789593.00400054\n",
            "SSD for model: 284187691.512036\n",
            "SSD for model: 204464672.32480523\n",
            "SSD for model: 204395348.650539\n",
            "SSD for model: 191808355.9694984\n",
            "SSD for model: 192096867.88700342\n",
            "SSD for model: 192038372.46265963\n",
            "Chosen model indices: [43 47  7 49]\n",
            "Predictions from model 44 completed with MSE: 426.2220439001334\n",
            "Predictions from model 48 completed with MSE: 425.7630507172547\n",
            "Predictions from model 8 completed with MSE: 425.4986117625919\n",
            "Predictions from model 50 completed with MSE: 420.13401798674823\n"
          ]
        },
        {
          "output_type": "display_data",
          "data": {
            "text/plain": [
              "<Figure size 1000x600 with 1 Axes>"
            ],
            "image/png": "[encoded data removed]"
          },
          "metadata": {}
        },
        {
          "output_type": "stream",
          "name": "stdout",
          "text": [
            "Visualization completed and saved as 'test_predictions.png'\n"
          ]
        }
      ]
    },
    {
      "cell_type": "markdown",
      "source": [
        "Neural Network"
      ],
      "metadata": {
        "id": "IP3RkbzjejZq"
      }
    },
    {
      "cell_type": "code",
      "source": [
        "from keras.models import Sequential\n",
        "from keras.layers import Dense\n",
        "\n",
        "models = []\n",
        "for i in range(1, 51):\n",
        "    model = Sequential()\n",
        "    model.add(Dense(64, input_dim=1, activation='relu'))\n",
        "    model.add(Dense(32, activation='relu'))\n",
        "    model.add(Dense(1))\n",
        "    model.compile(optimizer='adam', loss='mean_squared_error')\n",
        "    model.fit(X_train, ideal_df[f\"y{i}\"].values.reshape(-1, 1), epochs=100, verbose=0)\n",
        "    models.append(model)\n",
        "    print(f\"Neural Network Model {i} fitted\")\n"
      ],
      "metadata": {
        "colab": {
          "base_uri": "https://localhost:8080/"
        },
        "id": "ewvmAq7jemM4",
        "outputId": "f6fd506a-b539-4439-8b57-539723b1a544"
      },
      "execution_count": null,
      "outputs": [
        {
          "output_type": "stream",
          "name": "stdout",
          "text": [
            "Neural Network Model 1 fitted\n",
            "Neural Network Model 2 fitted\n",
            "Neural Network Model 3 fitted\n",
            "Neural Network Model 4 fitted\n",
            "Neural Network Model 5 fitted\n",
            "Neural Network Model 6 fitted\n",
            "Neural Network Model 7 fitted\n",
            "Neural Network Model 8 fitted\n",
            "Neural Network Model 9 fitted\n",
            "Neural Network Model 10 fitted\n",
            "Neural Network Model 11 fitted\n",
            "Neural Network Model 12 fitted\n",
            "Neural Network Model 13 fitted\n",
            "Neural Network Model 14 fitted\n",
            "Neural Network Model 15 fitted\n",
            "Neural Network Model 16 fitted\n",
            "Neural Network Model 17 fitted\n",
            "Neural Network Model 18 fitted\n",
            "Neural Network Model 19 fitted\n",
            "Neural Network Model 20 fitted\n",
            "Neural Network Model 21 fitted\n",
            "Neural Network Model 22 fitted\n",
            "Neural Network Model 23 fitted\n",
            "Neural Network Model 24 fitted\n",
            "Neural Network Model 25 fitted\n",
            "Neural Network Model 26 fitted\n",
            "Neural Network Model 27 fitted\n",
            "Neural Network Model 28 fitted\n",
            "Neural Network Model 29 fitted\n",
            "Neural Network Model 30 fitted\n",
            "Neural Network Model 31 fitted\n",
            "Neural Network Model 32 fitted\n",
            "Neural Network Model 33 fitted\n",
            "Neural Network Model 34 fitted\n",
            "Neural Network Model 35 fitted\n",
            "Neural Network Model 36 fitted\n",
            "Neural Network Model 37 fitted\n",
            "Neural Network Model 38 fitted\n",
            "Neural Network Model 39 fitted\n",
            "Neural Network Model 40 fitted\n",
            "Neural Network Model 41 fitted\n",
            "Neural Network Model 42 fitted\n",
            "Neural Network Model 43 fitted\n",
            "Neural Network Model 44 fitted\n",
            "Neural Network Model 45 fitted\n",
            "Neural Network Model 46 fitted\n",
            "Neural Network Model 47 fitted\n",
            "Neural Network Model 48 fitted\n",
            "Neural Network Model 49 fitted\n",
            "Neural Network Model 50 fitted\n"
          ]
        }
      ]
    },
    {
      "cell_type": "markdown",
      "source": [
        "Example for Neural Network model"
      ],
      "metadata": {
        "id": "9mzF3lsmg-pP"
      }
    },
    {
      "cell_type": "code",
      "source": [
        "import pandas as pd\n",
        "import numpy as np\n",
        "from keras.models import Sequential\n",
        "from keras.layers import Dense\n",
        "from sklearn.metrics import mean_squared_error\n",
        "import matplotlib.pyplot as plt\n",
        "\n",
        "# Step 1: Read datasets and initial setup\n",
        "# Read datasets\n",
        "ideal_df = pd.read_csv(\"/content/drive/MyDrive/iubh_python_assign/dataset/ideal.csv\")\n",
        "test_df = pd.read_csv(\"/content/drive/MyDrive/iubh_python_assign/dataset/test.csv\")\n",
        "train_df = pd.read_csv(\"/content/drive/MyDrive/iubh_python_assign/dataset/train.csv\")\n",
        "print(\"Datasets loaded successfully\")\n",
        "\n",
        "# Step 2: Prepare training and test data\n",
        "X_train = train_df[\"x\"].values.reshape(-1, 1)\n",
        "y_train = train_df.drop(columns=[\"x\"]).values\n",
        "X_test = test_df[\"x\"].values.reshape(-1, 1)\n",
        "print(\"Training and test data prepared\")\n",
        "\n",
        "# Step 3: Fit Neural Network models\n",
        "models = []\n",
        "for i in range(1, 51):\n",
        "    model = Sequential()\n",
        "    model.add(Dense(64, input_dim=1, activation='relu'))\n",
        "    model.add(Dense(32, activation='relu'))\n",
        "    model.add(Dense(1))\n",
        "    model.compile(optimizer='adam', loss='mean_squared_error')\n",
        "    model.fit(X_train, ideal_df[f\"y{i}\"].values.reshape(-1, 1), epochs=100, verbose=0)\n",
        "    models.append(model)\n",
        "    print(f\"Neural Network Model {i} fitted\")\n",
        "\n",
        "# Step 4: Calculate sum of squared deviations (SSD)\n",
        "ssd = []\n",
        "for model in models:\n",
        "    y_pred = model.predict(X_train)\n",
        "    ssd.append(np.sum((y_pred - y_train)**2))\n",
        "    print(f\"SSD for model: {np.sum((y_pred - y_train)**2)}\")\n",
        "\n",
        "# Step 5: Select best models\n",
        "chosen_indices = np.argsort(ssd)[:4]\n",
        "chosen_models = [models[i] for i in chosen_indices]\n",
        "print(f\"Chosen model indices: {chosen_indices}\")\n",
        "\n",
        "# Step 6: Predict on test data and evaluate\n",
        "test_predictions = np.zeros((len(X_test), 4))\n",
        "mse_values = []\n",
        "for i, model in enumerate(chosen_models):\n",
        "    test_predictions[:, i] = model.predict(X_test).flatten()\n",
        "    mse = mean_squared_error(test_df[\"y\"], test_predictions[:, i])\n",
        "    mse_values.append(mse)\n",
        "    print(f\"Predictions from model {chosen_indices[i]} completed with MSE: {mse}\")\n",
        "\n",
        "# Step 7: Visualization\n",
        "plt.figure(figsize=(10, 6))\n",
        "plt.scatter(X_test, test_df[\"y\"], label=\"Test Data\")\n",
        "for i, model in enumerate(chosen_models):\n",
        "    plt.plot(X_test, test_predictions[:, i], label=f\"Ideal Function {chosen_indices[i]}\")\n",
        "plt.xlabel(\"x\")\n",
        "plt.ylabel(\"y\")\n",
        "plt.title(\"Test Data and Predictions\")\n",
        "plt.legend()\n",
        "plt.grid(True)\n",
        "plt.savefig(\"test_predictions.png\")\n",
        "plt.show()\n",
        "print(\"Visualization completed and saved as 'test_predictions.png'\")\n"
      ],
      "metadata": {
        "colab": {
          "base_uri": "https://localhost:8080/",
          "height": 1000
        },
        "id": "nwkdE95ahGiK",
        "outputId": "bf75b019-2f9c-44d5-fd14-81b124b05bd6"
      },
      "execution_count": null,
      "outputs": [
        {
          "output_type": "stream",
          "name": "stdout",
          "text": [
            "Datasets loaded successfully\n",
            "Training and test data prepared\n",
            "Neural Network Model 1 fitted\n",
            "Neural Network Model 2 fitted\n",
            "Neural Network Model 3 fitted\n",
            "Neural Network Model 4 fitted\n",
            "Neural Network Model 5 fitted\n",
            "Neural Network Model 6 fitted\n",
            "Neural Network Model 7 fitted\n",
            "Neural Network Model 8 fitted\n",
            "Neural Network Model 9 fitted\n",
            "Neural Network Model 10 fitted\n",
            "Neural Network Model 11 fitted\n",
            "Neural Network Model 12 fitted\n",
            "Neural Network Model 13 fitted\n",
            "Neural Network Model 14 fitted\n",
            "Neural Network Model 15 fitted\n",
            "Neural Network Model 16 fitted\n",
            "Neural Network Model 17 fitted\n",
            "Neural Network Model 18 fitted\n",
            "Neural Network Model 19 fitted\n",
            "Neural Network Model 20 fitted\n",
            "Neural Network Model 21 fitted\n",
            "Neural Network Model 22 fitted\n",
            "Neural Network Model 23 fitted\n",
            "Neural Network Model 24 fitted\n",
            "Neural Network Model 25 fitted\n",
            "Neural Network Model 26 fitted\n",
            "Neural Network Model 27 fitted\n",
            "Neural Network Model 28 fitted\n",
            "Neural Network Model 29 fitted\n",
            "Neural Network Model 30 fitted\n",
            "Neural Network Model 31 fitted\n",
            "Neural Network Model 32 fitted\n",
            "Neural Network Model 33 fitted\n",
            "Neural Network Model 34 fitted\n",
            "Neural Network Model 35 fitted\n",
            "Neural Network Model 36 fitted\n",
            "Neural Network Model 37 fitted\n",
            "Neural Network Model 38 fitted\n",
            "Neural Network Model 39 fitted\n",
            "Neural Network Model 40 fitted\n",
            "Neural Network Model 41 fitted\n",
            "Neural Network Model 42 fitted\n",
            "Neural Network Model 43 fitted\n",
            "Neural Network Model 44 fitted\n",
            "Neural Network Model 45 fitted\n",
            "Neural Network Model 46 fitted\n",
            "Neural Network Model 47 fitted\n",
            "Neural Network Model 48 fitted\n",
            "Neural Network Model 49 fitted\n",
            "Neural Network Model 50 fitted\n",
            "13/13 [==============================] - 0s 2ms/step\n",
            "SSD for model: 479863.3062454565\n",
            "13/13 [==============================] - 0s 2ms/step\n",
            "SSD for model: 478044.2772048766\n",
            "13/13 [==============================] - 0s 2ms/step\n",
            "SSD for model: 641232.8836727256\n",
            "13/13 [==============================] - 0s 2ms/step\n",
            "SSD for model: 519514.6805151009\n",
            "13/13 [==============================] - 0s 2ms/step\n",
            "SSD for model: 637008.4384669383\n",
            "13/13 [==============================] - 0s 2ms/step\n",
            "SSD for model: 479906.6139841114\n",
            "13/13 [==============================] - 0s 2ms/step\n",
            "SSD for model: 479163.4825609896\n",
            "13/13 [==============================] - 0s 2ms/step\n",
            "SSD for model: 479289.7542230923\n",
            "13/13 [==============================] - 0s 2ms/step\n",
            "SSD for model: 480531.8461856606\n",
            "13/13 [==============================] - 0s 2ms/step\n",
            "SSD for model: 481217.12767819705\n",
            "13/13 [==============================] - 0s 2ms/step\n",
            "SSD for model: 585983.2494071459\n",
            "13/13 [==============================] - 0s 2ms/step\n",
            "SSD for model: 2084427.477524524\n",
            "13/13 [==============================] - 0s 2ms/step\n",
            "SSD for model: 1161083.9220473673\n",
            "13/13 [==============================] - 0s 2ms/step\n",
            "SSD for model: 799692.4158681361\n",
            "13/13 [==============================] - 0s 2ms/step\n",
            "SSD for model: 600774.5403748201\n",
            "13/13 [==============================] - 0s 2ms/step\n",
            "SSD for model: 50353181.2756194\n",
            "13/13 [==============================] - 0s 2ms/step\n",
            "SSD for model: 49080410.62572946\n",
            "13/13 [==============================] - 0s 2ms/step\n",
            "SSD for model: 192417337.9879042\n",
            "13/13 [==============================] - 0s 2ms/step\n",
            "SSD for model: 53771426.11293827\n",
            "13/13 [==============================] - 0s 2ms/step\n",
            "SSD for model: 59964281.17128308\n",
            "13/13 [==============================] - 0s 2ms/step\n",
            "SSD for model: 12121516673.502007\n",
            "13/13 [==============================] - 0s 2ms/step\n",
            "SSD for model: 12158575340.518473\n",
            "13/13 [==============================] - 0s 2ms/step\n",
            "SSD for model: 12128809513.506948\n",
            "13/13 [==============================] - 0s 2ms/step\n",
            "SSD for model: 48099254597.127975\n",
            "13/13 [==============================] - 0s 2ms/step\n",
            "SSD for model: 107403971966.3198\n",
            "13/13 [==============================] - 0s 2ms/step\n",
            "SSD for model: 14819887390.756794\n",
            "13/13 [==============================] - 0s 2ms/step\n",
            "SSD for model: 15285233067.265598\n",
            "13/13 [==============================] - 0s 2ms/step\n",
            "SSD for model: 12235227320.287413\n",
            "13/13 [==============================] - 0s 2ms/step\n",
            "SSD for model: 12162095042.634048\n",
            "13/13 [==============================] - 0s 2ms/step\n",
            "SSD for model: 12434793795.304916\n",
            "13/13 [==============================] - 0s 2ms/step\n",
            "SSD for model: 693450.3883627364\n",
            "13/13 [==============================] - 0s 2ms/step\n",
            "SSD for model: 495679.17047532066\n",
            "13/13 [==============================] - 0s 2ms/step\n",
            "SSD for model: 701919.8703875848\n",
            "13/13 [==============================] - 0s 2ms/step\n",
            "SSD for model: 479322.6783025448\n",
            "13/13 [==============================] - 0s 2ms/step\n",
            "SSD for model: 533284.5600287213\n",
            "13/13 [==============================] - 0s 2ms/step\n",
            "SSD for model: 5816062.038921445\n",
            "13/13 [==============================] - 0s 2ms/step\n",
            "SSD for model: 692192.1287862281\n",
            "13/13 [==============================] - 0s 2ms/step\n",
            "SSD for model: 480875.2230179368\n",
            "13/13 [==============================] - 0s 2ms/step\n",
            "SSD for model: 49115746.20438708\n",
            "13/13 [==============================] - 0s 2ms/step\n",
            "SSD for model: 198156339.41083807\n",
            "13/13 [==============================] - 0s 2ms/step\n",
            "SSD for model: 1117989.211511619\n",
            "13/13 [==============================] - 0s 2ms/step\n",
            "SSD for model: 1542935.5220523346\n",
            "13/13 [==============================] - 0s 2ms/step\n",
            "SSD for model: 487851.95973796654\n",
            "13/13 [==============================] - 0s 2ms/step\n",
            "SSD for model: 479485.0712981715\n",
            "13/13 [==============================] - 0s 2ms/step\n",
            "SSD for model: 708521.9487288417\n",
            "13/13 [==============================] - 0s 2ms/step\n",
            "SSD for model: 510639.4450054257\n",
            "13/13 [==============================] - 0s 2ms/step\n",
            "SSD for model: 510555.5413668373\n",
            "13/13 [==============================] - 0s 2ms/step\n",
            "SSD for model: 479527.51426989405\n",
            "13/13 [==============================] - 0s 2ms/step\n",
            "SSD for model: 479951.1705060764\n",
            "13/13 [==============================] - 0s 2ms/step\n",
            "SSD for model: 480180.6405487861\n",
            "Chosen model indices: [ 1  6  7 33]\n",
            "4/4 [==============================] - 0s 4ms/step\n",
            "Predictions from model 1 completed with MSE: 423.299439042657\n",
            "4/4 [==============================] - 0s 5ms/step\n",
            "Predictions from model 6 completed with MSE: 424.4072818129529\n",
            "4/4 [==============================] - 0s 2ms/step\n",
            "Predictions from model 7 completed with MSE: 425.5517471994236\n",
            "4/4 [==============================] - 0s 3ms/step\n",
            "Predictions from model 33 completed with MSE: 426.0755940478803\n"
          ]
        },
        {
          "output_type": "display_data",
          "data": {
            "text/plain": [
              "<Figure size 1000x600 with 1 Axes>"
            ],
            "image/png": "[encoded data removed]"
          },
          "metadata": {}
        },
        {
          "output_type": "stream",
          "name": "stdout",
          "text": [
            "Visualization completed and saved as 'test_predictions.png'\n"
          ]
        }
      ]
    }
  ]
}